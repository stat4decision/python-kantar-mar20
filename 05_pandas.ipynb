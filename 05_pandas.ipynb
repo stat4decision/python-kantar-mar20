{
 "cells": [
  {
   "cell_type": "markdown",
   "metadata": {
    "slideshow": {
     "slide_type": "slide"
    }
   },
   "source": [
    "![image](./images/pandas.png)\n",
    "\n",
    "Pandas est le package de prédilection pour traiter des données structurées.\n",
    "\n",
    "Pandas est basé sur 2 structures extrêmement liées les Series et le DataFrame.\n",
    "\n",
    "Ces deux structures permettent de traiter des données sous forme de tableaux indexés.\n",
    "\n",
    "Les classes de Pandas utilisent des classes de Numpy, il est donc possible d'utiliser les fonctions universelles de Numpy sur les objets Pandas."
   ]
  },
  {
   "cell_type": "code",
   "execution_count": 1,
   "metadata": {
    "slideshow": {
     "slide_type": "subslide"
    }
   },
   "outputs": [],
   "source": [
    "# on importe pandas avec :\n",
    "import pandas as pd\n",
    "import numpy as np\n",
    "%matplotlib inline"
   ]
  },
  {
   "cell_type": "markdown",
   "metadata": {
    "slideshow": {
     "slide_type": "slide"
    }
   },
   "source": [
    "# Les Series de Pandas\n",
    "\n",
    "- Les Series sont indexées, c'est leur avantage sur les arrays de NumPy\n",
    "- On peut utiliser les fonctions `.values` et `.index` pour voir les différentes parties de chaque Series\n",
    "- On définit une Series par `pd.Series([,], index=['','',])`\n",
    "- On peut appeler un élément avec `ma_serie['France']`\n",
    "- On peut aussi faire des conditions :\n",
    "```python\n",
    "ma_serie[ma_serie>5000000]\n",
    "```\n",
    "```\n",
    "'France' in ma_serie\n",
    "```\n",
    "- Les objets Series peuvent être transformés en dictionnaires en utilisant :\n",
    "`.to_dict()`"
   ]
  },
  {
   "cell_type": "markdown",
   "metadata": {
    "slideshow": {
     "slide_type": "subslide"
    }
   },
   "source": [
    "**Exercice :**\n",
    "    \n",
    "Définir un objet Series comprenant la population de 5 pays puis afficher les pays ayant une population > 50’000’000.\n"
   ]
  },
  {
   "cell_type": "code",
   "execution_count": 2,
   "metadata": {},
   "outputs": [],
   "source": [
    "ser_pop = pd.Series(data = [65,8,300,1200], index = [\"France\", \"Suisse\", \"USA\", \"Chine\"])"
   ]
  },
  {
   "cell_type": "code",
   "execution_count": 3,
   "metadata": {},
   "outputs": [
    {
     "data": {
      "text/plain": [
       "France      65\n",
       "Suisse       8\n",
       "USA        300\n",
       "Chine     1200\n",
       "dtype: int64"
      ]
     },
     "execution_count": 3,
     "metadata": {},
     "output_type": "execute_result"
    }
   ],
   "source": [
    "ser_pop"
   ]
  },
  {
   "cell_type": "code",
   "execution_count": 4,
   "metadata": {},
   "outputs": [
    {
     "data": {
      "text/plain": [
       "65"
      ]
     },
     "execution_count": 4,
     "metadata": {},
     "output_type": "execute_result"
    }
   ],
   "source": [
    "# pour extraire un élément, on utilise\n",
    "ser_pop[\"France\"]"
   ]
  },
  {
   "cell_type": "code",
   "execution_count": 5,
   "metadata": {},
   "outputs": [
    {
     "data": {
      "text/plain": [
       "8"
      ]
     },
     "execution_count": 5,
     "metadata": {},
     "output_type": "execute_result"
    }
   ],
   "source": [
    "# si on veut récupérer le 2ème élément, on peut utiliser :\n",
    "ser_pop.iloc[1]"
   ]
  },
  {
   "cell_type": "code",
   "execution_count": 6,
   "metadata": {},
   "outputs": [
    {
     "name": "stdout",
     "output_type": "stream",
     "text": [
      "Bien créée !\n"
     ]
    }
   ],
   "source": [
    "# pour vérifier que vous avez bien répondu à l'exercice, soumettre cette cellule\n",
    "# on utilise maj + Entrée\n",
    "assert type(ser_pop) == pd.Series\n",
    "print(\"Bien créée !\")"
   ]
  },
  {
   "cell_type": "code",
   "execution_count": 7,
   "metadata": {},
   "outputs": [],
   "source": [
    "# on construit une série avec les populations de plus de 50\n",
    "ser_pop_l50 = ser_pop[ser_pop>50]"
   ]
  },
  {
   "cell_type": "code",
   "execution_count": 8,
   "metadata": {},
   "outputs": [
    {
     "name": "stdout",
     "output_type": "stream",
     "text": [
      "Bravo !\n"
     ]
    }
   ],
   "source": [
    "# pour vérifier que vous avez bien répondu à l'exercice, soumettre cette cellule\n",
    "# on utilise maj + Entrée\n",
    "assert ser_pop_l50.min() >= 50\n",
    "print(\"Bravo !\")"
   ]
  },
  {
   "cell_type": "markdown",
   "metadata": {
    "slideshow": {
     "slide_type": "subslide"
    }
   },
   "source": [
    "# D'autres opérations sur les objets series\n",
    "\n",
    "- Pour définir le nom de la Series, on utilise `.name`\n",
    "- Pour définir le titre de la colonne des observations, on utilise `.index.name`"
   ]
  },
  {
   "cell_type": "markdown",
   "metadata": {
    "slideshow": {
     "slide_type": "subslide"
    }
   },
   "source": [
    "**Exercice :**\n",
    "    \n",
    "Définir les noms de l’objet et de la colonne des pays pour la Series précédente\n"
   ]
  },
  {
   "cell_type": "code",
   "execution_count": 9,
   "metadata": {},
   "outputs": [
    {
     "data": {
      "text/plain": [
       "Pays\n",
       "France      65\n",
       "Suisse       8\n",
       "USA        300\n",
       "Chine     1200\n",
       "Name: Populations, dtype: int64"
      ]
     },
     "execution_count": 9,
     "metadata": {},
     "output_type": "execute_result"
    }
   ],
   "source": [
    "ser_pop.name = \"Populations\"\n",
    "ser_pop.index.name = \"Pays\"\n",
    "ser_pop"
   ]
  },
  {
   "cell_type": "markdown",
   "metadata": {
    "slideshow": {
     "slide_type": "subslide"
    }
   },
   "source": [
    "# Les données manquantes\n",
    "\n",
    "Dans pandas, les données manquantes sont identifiés avec les fonctions de Numpy (`np.nan`). On a d'autres fonctions telles que :"
   ]
  },
  {
   "cell_type": "code",
   "execution_count": 10,
   "metadata": {
    "slideshow": {
     "slide_type": "fragment"
    }
   },
   "outputs": [
    {
     "data": {
      "text/plain": [
       "a    False\n",
       "b     True\n",
       "c    False\n",
       "dtype: bool"
      ]
     },
     "execution_count": 10,
     "metadata": {},
     "output_type": "execute_result"
    }
   ],
   "source": [
    "pd.isna(pd.Series([2,np.nan,4],index=['a','b','c']))"
   ]
  },
  {
   "cell_type": "code",
   "execution_count": 11,
   "metadata": {
    "slideshow": {
     "slide_type": "fragment"
    }
   },
   "outputs": [
    {
     "data": {
      "text/plain": [
       "a     True\n",
       "b    False\n",
       "c     True\n",
       "dtype: bool"
      ]
     },
     "execution_count": 11,
     "metadata": {},
     "output_type": "execute_result"
    }
   ],
   "source": [
    "pd.notna(pd.Series([2,np.nan,4],index=['a','b','c']))"
   ]
  },
  {
   "cell_type": "markdown",
   "metadata": {
    "slideshow": {
     "slide_type": "slide"
    }
   },
   "source": [
    "# Les dates avec pandas\n",
    "\n",
    "- Python possède un module datetime qui permet de gérer facilement des dates\n",
    "- Pandas permet d'appliquer les opérations sur les dates aux Series et aux DataFrame\n",
    "- Le format es dates Python est `YYYY-MM-DD HH:MM:SS`\n",
    "\n",
    "- On peut générer des dates avec la fonction `pd.date_range()` avec différente fréquences `freq=`\n",
    "- On peut utiliser ces dates comme index dans un DataFrame ou dans un objet Series\n",
    "- On peut changer la fréquence en utilisant `.asfreq()`\n",
    "- Pour transformer une chaine de caractère en date, on utilise `pd.to_datetime()` avec l’option `dayfirst=True` si on est dans le cas français\n",
    "-On pourra aussi spécifier un format pour accélérer le processus `%Y%m%d`"
   ]
  },
  {
   "cell_type": "markdown",
   "metadata": {
    "slideshow": {
     "slide_type": "subslide"
    }
   },
   "source": [
    "**Exercice :**\n",
    "\n",
    "Créez un objet Series et ajoutez des dates partant du 3 octobre 2017 par jour jusqu’à aujourd’hui. Afficher le résultat dans un graphique (on utilisera la méthode `.plot()`\n",
    "\n",
    "*Indice :* Utilisez les informations ci-dessus\n",
    "\n",
    "On utilisera :\n",
    "```\n",
    "pd.date_range(___)\n",
    "np.random.randn(___)\n",
    "pd.Series(___)\n",
    "```"
   ]
  },
  {
   "cell_type": "code",
   "execution_count": 12,
   "metadata": {},
   "outputs": [],
   "source": [
    "import datetime\n",
    "dates = pd.date_range(start='2017-10-03', end = datetime.date.today(),freq = \"D\")\n",
    "data = np.random.random(len(dates))"
   ]
  },
  {
   "cell_type": "code",
   "execution_count": 15,
   "metadata": {
    "scrolled": true
   },
   "outputs": [
    {
     "data": {
      "text/plain": [
       "<matplotlib.axes._subplots.AxesSubplot at 0x28dfe4a8148>"
      ]
     },
     "execution_count": 15,
     "metadata": {},
     "output_type": "execute_result"
    },
    {
     "data": {
      "image/png": "[encoded data removed]",
      "text/plain": [
       "<Figure size 432x288 with 1 Axes>"
      ]
     },
     "metadata": {
      "needs_background": "light"
     },
     "output_type": "display_data"
    }
   ],
   "source": [
    "serie_temp = pd.Series(data=data,index=dates)\n",
    "serie_temp.plot()"
   ]
  },
  {
   "cell_type": "markdown",
   "metadata": {
    "slideshow": {
     "slide_type": "slide"
    }
   },
   "source": [
    "# Le DataFrame \n",
    "\n",
    "- Les DataFrame sont des objets très souples pouvant être construits de différentes façon\n",
    "- On peut les construire en récupérant des données copier / coller, où directement sur Internet, ou en entrant les valeurs manuellement\n",
    "\n",
    "\n",
    "- Les DataFrame se rapprochent des dictionnaires et on peut construire ces objets en utilisant `DataFrame(dico)`\n",
    "- De nombreux détails sur la création des DataFrame se trouve sur ce site :\n",
    "\n",
    "<http://pandas.pydata.org/pandas-docs/dev/generated/pandas.DataFrame.html>\n"
   ]
  },
  {
   "cell_type": "markdown",
   "metadata": {
    "slideshow": {
     "slide_type": "subslide"
    }
   },
   "source": [
    "# Construction de DataFrame\n",
    "\n",
    "On peut simplement construire un DataFrame avec le classe pd.DataFrame() à partir de différentes structures :"
   ]
  },
  {
   "cell_type": "code",
   "execution_count": 16,
   "metadata": {
    "slideshow": {
     "slide_type": "fragment"
    }
   },
   "outputs": [
    {
     "data": {
      "text/html": [
       "<div>\n",
       "<style scoped>\n",
       "    .dataframe tbody tr th:only-of-type {\n",
       "        vertical-align: middle;\n",
       "    }\n",
       "\n",
       "    .dataframe tbody tr th {\n",
       "        vertical-align: top;\n",
       "    }\n",
       "\n",
       "    .dataframe thead th {\n",
       "        text-align: right;\n",
       "    }\n",
       "</style>\n",
       "<table border=\"1\" class=\"dataframe\">\n",
       "  <thead>\n",
       "    <tr style=\"text-align: right;\">\n",
       "      <th></th>\n",
       "      <th>col_0</th>\n",
       "      <th>col_1</th>\n",
       "    </tr>\n",
       "  </thead>\n",
       "  <tbody>\n",
       "    <tr>\n",
       "      <th>obs_0</th>\n",
       "      <td>-0.244058</td>\n",
       "      <td>-0.149234</td>\n",
       "    </tr>\n",
       "    <tr>\n",
       "      <th>obs_1</th>\n",
       "      <td>-0.731710</td>\n",
       "      <td>-0.002547</td>\n",
       "    </tr>\n",
       "    <tr>\n",
       "      <th>obs_2</th>\n",
       "      <td>0.185558</td>\n",
       "      <td>0.864111</td>\n",
       "    </tr>\n",
       "    <tr>\n",
       "      <th>obs_3</th>\n",
       "      <td>-1.123187</td>\n",
       "      <td>0.835380</td>\n",
       "    </tr>\n",
       "    <tr>\n",
       "      <th>obs_4</th>\n",
       "      <td>0.597644</td>\n",
       "      <td>1.148977</td>\n",
       "    </tr>\n",
       "  </tbody>\n",
       "</table>\n",
       "</div>"
      ],
      "text/plain": [
       "          col_0     col_1\n",
       "obs_0 -0.244058 -0.149234\n",
       "obs_1 -0.731710 -0.002547\n",
       "obs_2  0.185558  0.864111\n",
       "obs_3 -1.123187  0.835380\n",
       "obs_4  0.597644  1.148977"
      ]
     },
     "execution_count": 16,
     "metadata": {},
     "output_type": "execute_result"
    }
   ],
   "source": [
    "frame1=pd.DataFrame(np.random.randn(10).reshape(5,2),\n",
    "             index=[\"obs_\"+str(i) for i in range(5)],\n",
    "             columns=[\"col_\"+str(i) for i in range(2)])\n",
    "frame1"
   ]
  },
  {
   "cell_type": "markdown",
   "metadata": {
    "slideshow": {
     "slide_type": "subslide"
    }
   },
   "source": [
    "# Opérations sur les DataFrame\n",
    "\n",
    "On peut afficher le nom des colonnes :"
   ]
  },
  {
   "cell_type": "code",
   "execution_count": 17,
   "metadata": {
    "slideshow": {
     "slide_type": "fragment"
    }
   },
   "outputs": [
    {
     "name": "stdout",
     "output_type": "stream",
     "text": [
      "Index(['col_0', 'col_1'], dtype='object')\n"
     ]
    }
   ],
   "source": [
    "print(frame1.columns)"
   ]
  },
  {
   "cell_type": "markdown",
   "metadata": {
    "slideshow": {
     "slide_type": "fragment"
    }
   },
   "source": [
    "On peut accéder à une colonne avec :\n",
    "- `frame1.col_0` : attention au cas de nom de colonnes avec des espaces...\n",
    "- `frame1['col_0']`\n",
    "\n",
    "On peut accéder à une cellule avec :\n",
    "- `frame1.loc['obs1','col_0']` : on utilise les index et le nom des colonnes\n",
    "- `frame1.iloc[1,0]` : on utilise les positions dans le DataFrame\n"
   ]
  },
  {
   "cell_type": "markdown",
   "metadata": {
    "slideshow": {
     "slide_type": "subslide"
    }
   },
   "source": [
    "# Options de visualisation et de résumé\n",
    "\n",
    "Pour afficher les 3 premières lignes, on peut utiliser :\n"
   ]
  },
  {
   "cell_type": "code",
   "execution_count": 18,
   "metadata": {
    "slideshow": {
     "slide_type": "fragment"
    }
   },
   "outputs": [
    {
     "data": {
      "text/html": [
       "<div>\n",
       "<style scoped>\n",
       "    .dataframe tbody tr th:only-of-type {\n",
       "        vertical-align: middle;\n",
       "    }\n",
       "\n",
       "    .dataframe tbody tr th {\n",
       "        vertical-align: top;\n",
       "    }\n",
       "\n",
       "    .dataframe thead th {\n",
       "        text-align: right;\n",
       "    }\n",
       "</style>\n",
       "<table border=\"1\" class=\"dataframe\">\n",
       "  <thead>\n",
       "    <tr style=\"text-align: right;\">\n",
       "      <th></th>\n",
       "      <th>col_0</th>\n",
       "      <th>col_1</th>\n",
       "    </tr>\n",
       "  </thead>\n",
       "  <tbody>\n",
       "    <tr>\n",
       "      <th>obs_0</th>\n",
       "      <td>-0.244058</td>\n",
       "      <td>-0.149234</td>\n",
       "    </tr>\n",
       "    <tr>\n",
       "      <th>obs_1</th>\n",
       "      <td>-0.731710</td>\n",
       "      <td>-0.002547</td>\n",
       "    </tr>\n",
       "    <tr>\n",
       "      <th>obs_2</th>\n",
       "      <td>0.185558</td>\n",
       "      <td>0.864111</td>\n",
       "    </tr>\n",
       "  </tbody>\n",
       "</table>\n",
       "</div>"
      ],
      "text/plain": [
       "          col_0     col_1\n",
       "obs_0 -0.244058 -0.149234\n",
       "obs_1 -0.731710 -0.002547\n",
       "obs_2  0.185558  0.864111"
      ]
     },
     "execution_count": 18,
     "metadata": {},
     "output_type": "execute_result"
    }
   ],
   "source": [
    "frame1.head(3)"
   ]
  },
  {
   "cell_type": "markdown",
   "metadata": {
    "slideshow": {
     "slide_type": "subslide"
    }
   },
   "source": [
    "Pour afficher un résumé du DF :"
   ]
  },
  {
   "cell_type": "code",
   "execution_count": 19,
   "metadata": {
    "slideshow": {
     "slide_type": "fragment"
    }
   },
   "outputs": [
    {
     "name": "stdout",
     "output_type": "stream",
     "text": [
      "<class 'pandas.core.frame.DataFrame'>\n",
      "Index: 5 entries, obs_0 to obs_4\n",
      "Data columns (total 2 columns):\n",
      " #   Column  Non-Null Count  Dtype  \n",
      "---  ------  --------------  -----  \n",
      " 0   col_0   5 non-null      float64\n",
      " 1   col_1   5 non-null      float64\n",
      "dtypes: float64(2)\n",
      "memory usage: 120.0+ bytes\n"
     ]
    }
   ],
   "source": [
    "frame1.info()"
   ]
  },
  {
   "cell_type": "markdown",
   "metadata": {
    "slideshow": {
     "slide_type": "slide"
    }
   },
   "source": [
    "# Importer des données externes\n",
    "\n",
    "Pandas est l'outil le plus efficace pour importer des données externes, il prend en charge de nombreux formats dont csv, Excel, SQL, SAS...\n",
    "\n",
    "\n",
    "## Importation de données avec Pandas\n",
    "\n",
    "Quel que soit le type de fichier, Pandas possède une fonction :\n",
    "```python\n",
    "frame=pd.read_...('chemin_du_fichier/nom_du_fichier',...)\n",
    "```\n",
    "Pour écrire un DataFrame dans un fichier, on utilise :\n",
    "```python\n",
    "frame.to_...('chemin_du_fichier/nom_du_fichier',...)\n",
    "```"
   ]
  },
  {
   "cell_type": "markdown",
   "metadata": {
    "slideshow": {
     "slide_type": "subslide"
    }
   },
   "source": [
    "**Exercice :**\n",
    "    \n",
    "Importer un fichier `.csv` avec `pd.read_csv()`. On utilisera le fichier \"./data/airbnb.csv\""
   ]
  },
  {
   "cell_type": "code",
   "execution_count": 20,
   "metadata": {},
   "outputs": [
    {
     "name": "stderr",
     "output_type": "stream",
     "text": [
      "C:\\Users\\s4d-asus-14\\Anaconda3\\lib\\site-packages\\IPython\\core\\interactiveshell.py:3063: DtypeWarning: Columns (43,61,62) have mixed types.Specify dtype option on import or set low_memory=False.\n",
      "  interactivity=interactivity, compiler=compiler, result=result)\n"
     ]
    }
   ],
   "source": [
    "airbnb = pd.read_csv('https://www.stat4decision.com/airbnb.zip')"
   ]
  },
  {
   "cell_type": "code",
   "execution_count": 21,
   "metadata": {},
   "outputs": [
    {
     "name": "stdout",
     "output_type": "stream",
     "text": [
      "Bien importé !\n"
     ]
    }
   ],
   "source": [
    "# pour vérifier que vous avez bien répondu à l'exercice, soumettre cette cellule\n",
    "# on utilise maj + Entrée\n",
    "assert airbnb[\"price\"].dtype == object\n",
    "print(\"Bien importé !\")"
   ]
  },
  {
   "cell_type": "code",
   "execution_count": 22,
   "metadata": {},
   "outputs": [
    {
     "name": "stdout",
     "output_type": "stream",
     "text": [
      "<class 'pandas.core.frame.DataFrame'>\n",
      "RangeIndex: 59126 entries, 0 to 59125\n",
      "Columns: 106 entries, id to reviews_per_month\n",
      "dtypes: float64(23), int64(21), object(62)\n",
      "memory usage: 47.8+ MB\n"
     ]
    }
   ],
   "source": [
    "airbnb.info()"
   ]
  },
  {
   "cell_type": "code",
   "execution_count": 23,
   "metadata": {},
   "outputs": [
    {
     "data": {
      "text/html": [
       "<div>\n",
       "<style scoped>\n",
       "    .dataframe tbody tr th:only-of-type {\n",
       "        vertical-align: middle;\n",
       "    }\n",
       "\n",
       "    .dataframe tbody tr th {\n",
       "        vertical-align: top;\n",
       "    }\n",
       "\n",
       "    .dataframe thead th {\n",
       "        text-align: right;\n",
       "    }\n",
       "</style>\n",
       "<table border=\"1\" class=\"dataframe\">\n",
       "  <thead>\n",
       "    <tr style=\"text-align: right;\">\n",
       "      <th></th>\n",
       "      <th>id</th>\n",
       "      <th>listing_url</th>\n",
       "      <th>scrape_id</th>\n",
       "      <th>last_scraped</th>\n",
       "      <th>name</th>\n",
       "      <th>summary</th>\n",
       "      <th>space</th>\n",
       "      <th>description</th>\n",
       "      <th>experiences_offered</th>\n",
       "      <th>neighborhood_overview</th>\n",
       "      <th>...</th>\n",
       "      <th>instant_bookable</th>\n",
       "      <th>is_business_travel_ready</th>\n",
       "      <th>cancellation_policy</th>\n",
       "      <th>require_guest_profile_picture</th>\n",
       "      <th>require_guest_phone_verification</th>\n",
       "      <th>calculated_host_listings_count</th>\n",
       "      <th>calculated_host_listings_count_entire_homes</th>\n",
       "      <th>calculated_host_listings_count_private_rooms</th>\n",
       "      <th>calculated_host_listings_count_shared_rooms</th>\n",
       "      <th>reviews_per_month</th>\n",
       "    </tr>\n",
       "  </thead>\n",
       "  <tbody>\n",
       "    <tr>\n",
       "      <th>0</th>\n",
       "      <td>3109</td>\n",
       "      <td>https://www.airbnb.com/rooms/3109</td>\n",
       "      <td>20190507030954</td>\n",
       "      <td>2019-05-07</td>\n",
       "      <td>zen and calm</td>\n",
       "      <td>Appartement très calme de 50M2 Utilisation de ...</td>\n",
       "      <td>I bedroom appartment in Paris 14</td>\n",
       "      <td>I bedroom appartment in Paris 14 Good restaura...</td>\n",
       "      <td>none</td>\n",
       "      <td>Good restaurants very close the Montparnasse S...</td>\n",
       "      <td>...</td>\n",
       "      <td>f</td>\n",
       "      <td>f</td>\n",
       "      <td>flexible</td>\n",
       "      <td>f</td>\n",
       "      <td>f</td>\n",
       "      <td>1</td>\n",
       "      <td>1</td>\n",
       "      <td>0</td>\n",
       "      <td>0</td>\n",
       "      <td>0.28</td>\n",
       "    </tr>\n",
       "    <tr>\n",
       "      <th>1</th>\n",
       "      <td>5396</td>\n",
       "      <td>https://www.airbnb.com/rooms/5396</td>\n",
       "      <td>20190507030954</td>\n",
       "      <td>2019-05-08</td>\n",
       "      <td>Explore the heart of old Paris</td>\n",
       "      <td>Cozy, well-appointed and graciously designed s...</td>\n",
       "      <td>Small, well appointed studio apartment at the ...</td>\n",
       "      <td>Cozy, well-appointed and graciously designed s...</td>\n",
       "      <td>none</td>\n",
       "      <td>You are within walking distance to the Louvre,...</td>\n",
       "      <td>...</td>\n",
       "      <td>t</td>\n",
       "      <td>f</td>\n",
       "      <td>strict_14_with_grace_period</td>\n",
       "      <td>f</td>\n",
       "      <td>f</td>\n",
       "      <td>1</td>\n",
       "      <td>1</td>\n",
       "      <td>0</td>\n",
       "      <td>0</td>\n",
       "      <td>1.44</td>\n",
       "    </tr>\n",
       "    <tr>\n",
       "      <th>2</th>\n",
       "      <td>7397</td>\n",
       "      <td>https://www.airbnb.com/rooms/7397</td>\n",
       "      <td>20190507030954</td>\n",
       "      <td>2019-05-07</td>\n",
       "      <td>MARAIS - 2ROOMS APT - 2/4 PEOPLE</td>\n",
       "      <td>VERY CONVENIENT, WITH THE BEST LOCATION !</td>\n",
       "      <td>PLEASE ASK ME BEFORE TO MAKE A REQUEST !!! No ...</td>\n",
       "      <td>VERY CONVENIENT, WITH THE BEST LOCATION ! PLEA...</td>\n",
       "      <td>none</td>\n",
       "      <td>NaN</td>\n",
       "      <td>...</td>\n",
       "      <td>f</td>\n",
       "      <td>f</td>\n",
       "      <td>moderate</td>\n",
       "      <td>f</td>\n",
       "      <td>f</td>\n",
       "      <td>1</td>\n",
       "      <td>1</td>\n",
       "      <td>0</td>\n",
       "      <td>0</td>\n",
       "      <td>2.47</td>\n",
       "    </tr>\n",
       "    <tr>\n",
       "      <th>3</th>\n",
       "      <td>8522</td>\n",
       "      <td>https://www.airbnb.com/rooms/8522</td>\n",
       "      <td>20190507030954</td>\n",
       "      <td>2019-05-08</td>\n",
       "      <td>GREAT FLAT w/ CITY VIEW</td>\n",
       "      <td>NaN</td>\n",
       "      <td>Really nice flat located in the 20th district ...</td>\n",
       "      <td>Really nice flat located in the 20th district ...</td>\n",
       "      <td>none</td>\n",
       "      <td>NaN</td>\n",
       "      <td>...</td>\n",
       "      <td>f</td>\n",
       "      <td>f</td>\n",
       "      <td>moderate</td>\n",
       "      <td>f</td>\n",
       "      <td>f</td>\n",
       "      <td>1</td>\n",
       "      <td>1</td>\n",
       "      <td>0</td>\n",
       "      <td>0</td>\n",
       "      <td>0.01</td>\n",
       "    </tr>\n",
       "    <tr>\n",
       "      <th>4</th>\n",
       "      <td>9359</td>\n",
       "      <td>https://www.airbnb.com/rooms/9359</td>\n",
       "      <td>20190507030954</td>\n",
       "      <td>2019-05-07</td>\n",
       "      <td>Cozy, Central Paris: WALK or VELIB EVERYWHERE !</td>\n",
       "      <td>Location! Location! Location! Just bring your ...</td>\n",
       "      <td>Since I live in the USA, it is difficult to ma...</td>\n",
       "      <td>Location! Location! Location! Just bring your ...</td>\n",
       "      <td>none</td>\n",
       "      <td>NaN</td>\n",
       "      <td>...</td>\n",
       "      <td>f</td>\n",
       "      <td>f</td>\n",
       "      <td>strict_14_with_grace_period</td>\n",
       "      <td>t</td>\n",
       "      <td>t</td>\n",
       "      <td>1</td>\n",
       "      <td>1</td>\n",
       "      <td>0</td>\n",
       "      <td>0</td>\n",
       "      <td>NaN</td>\n",
       "    </tr>\n",
       "  </tbody>\n",
       "</table>\n",
       "<p>5 rows × 106 columns</p>\n",
       "</div>"
      ],
      "text/plain": [
       "     id                        listing_url       scrape_id last_scraped  \\\n",
       "0  3109  https://www.airbnb.com/rooms/3109  20190507030954   2019-05-07   \n",
       "1  5396  https://www.airbnb.com/rooms/5396  20190507030954   2019-05-08   \n",
       "2  7397  https://www.airbnb.com/rooms/7397  20190507030954   2019-05-07   \n",
       "3  8522  https://www.airbnb.com/rooms/8522  20190507030954   2019-05-08   \n",
       "4  9359  https://www.airbnb.com/rooms/9359  20190507030954   2019-05-07   \n",
       "\n",
       "                                              name  \\\n",
       "0                                     zen and calm   \n",
       "1                   Explore the heart of old Paris   \n",
       "2                 MARAIS - 2ROOMS APT - 2/4 PEOPLE   \n",
       "3                          GREAT FLAT w/ CITY VIEW   \n",
       "4  Cozy, Central Paris: WALK or VELIB EVERYWHERE !   \n",
       "\n",
       "                                             summary  \\\n",
       "0  Appartement très calme de 50M2 Utilisation de ...   \n",
       "1  Cozy, well-appointed and graciously designed s...   \n",
       "2          VERY CONVENIENT, WITH THE BEST LOCATION !   \n",
       "3                                                NaN   \n",
       "4  Location! Location! Location! Just bring your ...   \n",
       "\n",
       "                                               space  \\\n",
       "0                   I bedroom appartment in Paris 14   \n",
       "1  Small, well appointed studio apartment at the ...   \n",
       "2  PLEASE ASK ME BEFORE TO MAKE A REQUEST !!! No ...   \n",
       "3  Really nice flat located in the 20th district ...   \n",
       "4  Since I live in the USA, it is difficult to ma...   \n",
       "\n",
       "                                         description experiences_offered  \\\n",
       "0  I bedroom appartment in Paris 14 Good restaura...                none   \n",
       "1  Cozy, well-appointed and graciously designed s...                none   \n",
       "2  VERY CONVENIENT, WITH THE BEST LOCATION ! PLEA...                none   \n",
       "3  Really nice flat located in the 20th district ...                none   \n",
       "4  Location! Location! Location! Just bring your ...                none   \n",
       "\n",
       "                               neighborhood_overview  ... instant_bookable  \\\n",
       "0  Good restaurants very close the Montparnasse S...  ...                f   \n",
       "1  You are within walking distance to the Louvre,...  ...                t   \n",
       "2                                                NaN  ...                f   \n",
       "3                                                NaN  ...                f   \n",
       "4                                                NaN  ...                f   \n",
       "\n",
       "  is_business_travel_ready          cancellation_policy  \\\n",
       "0                        f                     flexible   \n",
       "1                        f  strict_14_with_grace_period   \n",
       "2                        f                     moderate   \n",
       "3                        f                     moderate   \n",
       "4                        f  strict_14_with_grace_period   \n",
       "\n",
       "  require_guest_profile_picture require_guest_phone_verification  \\\n",
       "0                             f                                f   \n",
       "1                             f                                f   \n",
       "2                             f                                f   \n",
       "3                             f                                f   \n",
       "4                             t                                t   \n",
       "\n",
       "   calculated_host_listings_count  \\\n",
       "0                               1   \n",
       "1                               1   \n",
       "2                               1   \n",
       "3                               1   \n",
       "4                               1   \n",
       "\n",
       "   calculated_host_listings_count_entire_homes  \\\n",
       "0                                            1   \n",
       "1                                            1   \n",
       "2                                            1   \n",
       "3                                            1   \n",
       "4                                            1   \n",
       "\n",
       "  calculated_host_listings_count_private_rooms  \\\n",
       "0                                            0   \n",
       "1                                            0   \n",
       "2                                            0   \n",
       "3                                            0   \n",
       "4                                            0   \n",
       "\n",
       "   calculated_host_listings_count_shared_rooms  reviews_per_month  \n",
       "0                                            0               0.28  \n",
       "1                                            0               1.44  \n",
       "2                                            0               2.47  \n",
       "3                                            0               0.01  \n",
       "4                                            0                NaN  \n",
       "\n",
       "[5 rows x 106 columns]"
      ]
     },
     "execution_count": 23,
     "metadata": {},
     "output_type": "execute_result"
    }
   ],
   "source": [
    "airbnb.head()"
   ]
  },
  {
   "cell_type": "markdown",
   "metadata": {},
   "source": [
    "Importer un fichier `.csv` qui a comme séparateur `;`, le nom du fichier est `base-dpt.csv`"
   ]
  },
  {
   "cell_type": "code",
   "execution_count": 24,
   "metadata": {},
   "outputs": [],
   "source": [
    "base_dpt = pd.read_csv(\"./data/base-dpt.csv\",sep=';')"
   ]
  },
  {
   "cell_type": "code",
   "execution_count": 25,
   "metadata": {},
   "outputs": [
    {
     "data": {
      "text/plain": [
       "Index(['CODGEO', 'LIBGEO', 'REG', 'DEP', 'P14_POP', 'P09_POP', 'SUPERF',\n",
       "       'NAIS0914', 'DECE0914', 'P14_MEN', 'NAISD16', 'DECESD16', 'P14_LOG',\n",
       "       'P14_RP', 'P14_RSECOCC', 'P14_LOGVAC', 'P14_RP_PROP', 'NBMENFISC14',\n",
       "       'PIMP14', 'MED14', 'TP6014', 'P14_EMPLT', 'P14_EMPLT_SAL', 'P09_EMPLT',\n",
       "       'P14_POP1564', 'P14_CHOM1564', 'P14_ACT1564', 'ETTOT15', 'ETAZ15',\n",
       "       'ETBE15', 'ETFZ15', 'ETGU15', 'ETGZ15', 'ETOQ15', 'ETTEF115',\n",
       "       'ETTEFP1015', 'Geo Shape', 'geo_point_2d'],\n",
       "      dtype='object')"
      ]
     },
     "execution_count": 25,
     "metadata": {},
     "output_type": "execute_result"
    }
   ],
   "source": [
    "base_dpt.columns"
   ]
  },
  {
   "cell_type": "code",
   "execution_count": 26,
   "metadata": {},
   "outputs": [
    {
     "name": "stdout",
     "output_type": "stream",
     "text": [
      "Bien importé !\n"
     ]
    }
   ],
   "source": [
    "# pour vérifier que vous avez bien répondu à l'exercice, soumettre cette cellule\n",
    "# on utilise maj + Entrée\n",
    "assert type(base_dpt) == pd.DataFrame\n",
    "print(\"Bien importé !\")"
   ]
  },
  {
   "cell_type": "code",
   "execution_count": 27,
   "metadata": {},
   "outputs": [
    {
     "data": {
      "text/html": [
       "<div>\n",
       "<style scoped>\n",
       "    .dataframe tbody tr th:only-of-type {\n",
       "        vertical-align: middle;\n",
       "    }\n",
       "\n",
       "    .dataframe tbody tr th {\n",
       "        vertical-align: top;\n",
       "    }\n",
       "\n",
       "    .dataframe thead th {\n",
       "        text-align: right;\n",
       "    }\n",
       "</style>\n",
       "<table border=\"1\" class=\"dataframe\">\n",
       "  <thead>\n",
       "    <tr style=\"text-align: right;\">\n",
       "      <th></th>\n",
       "      <th>CODGEO</th>\n",
       "      <th>LIBGEO</th>\n",
       "      <th>REG</th>\n",
       "      <th>DEP</th>\n",
       "      <th>P14_POP</th>\n",
       "      <th>P09_POP</th>\n",
       "      <th>SUPERF</th>\n",
       "      <th>NAIS0914</th>\n",
       "      <th>DECE0914</th>\n",
       "      <th>P14_MEN</th>\n",
       "      <th>...</th>\n",
       "      <th>ETAZ15</th>\n",
       "      <th>ETBE15</th>\n",
       "      <th>ETFZ15</th>\n",
       "      <th>ETGU15</th>\n",
       "      <th>ETGZ15</th>\n",
       "      <th>ETOQ15</th>\n",
       "      <th>ETTEF115</th>\n",
       "      <th>ETTEFP1015</th>\n",
       "      <th>Geo Shape</th>\n",
       "      <th>geo_point_2d</th>\n",
       "    </tr>\n",
       "  </thead>\n",
       "  <tbody>\n",
       "    <tr>\n",
       "      <th>0</th>\n",
       "      <td>95555</td>\n",
       "      <td>Saint-Gratien</td>\n",
       "      <td>11</td>\n",
       "      <td>95</td>\n",
       "      <td>20996.0</td>\n",
       "      <td>20258.0</td>\n",
       "      <td>2.42</td>\n",
       "      <td>1564.0</td>\n",
       "      <td>749.0</td>\n",
       "      <td>8909.817815</td>\n",
       "      <td>...</td>\n",
       "      <td>3.0</td>\n",
       "      <td>38.0</td>\n",
       "      <td>142.0</td>\n",
       "      <td>1078.0</td>\n",
       "      <td>225.0</td>\n",
       "      <td>214.0</td>\n",
       "      <td>335.0</td>\n",
       "      <td>67.0</td>\n",
       "      <td>{\"type\": \"Polygon\", \"coordinates\": [[[2.274621...</td>\n",
       "      <td>48.9695044801, 2.28470111182</td>\n",
       "    </tr>\n",
       "    <tr>\n",
       "      <th>1</th>\n",
       "      <td>95488</td>\n",
       "      <td>Pierrelaye</td>\n",
       "      <td>11</td>\n",
       "      <td>95</td>\n",
       "      <td>8155.0</td>\n",
       "      <td>7920.0</td>\n",
       "      <td>9.21</td>\n",
       "      <td>639.0</td>\n",
       "      <td>243.0</td>\n",
       "      <td>2891.000000</td>\n",
       "      <td>...</td>\n",
       "      <td>8.0</td>\n",
       "      <td>47.0</td>\n",
       "      <td>135.0</td>\n",
       "      <td>623.0</td>\n",
       "      <td>241.0</td>\n",
       "      <td>65.0</td>\n",
       "      <td>228.0</td>\n",
       "      <td>72.0</td>\n",
       "      <td>{\"type\": \"Polygon\", \"coordinates\": [[[2.193617...</td>\n",
       "      <td>49.0190794714, 2.1606870483</td>\n",
       "    </tr>\n",
       "    <tr>\n",
       "      <th>2</th>\n",
       "      <td>95543</td>\n",
       "      <td>Saint-Cyr-en-Arthies</td>\n",
       "      <td>11</td>\n",
       "      <td>95</td>\n",
       "      <td>242.0</td>\n",
       "      <td>229.0</td>\n",
       "      <td>3.89</td>\n",
       "      <td>9.0</td>\n",
       "      <td>4.0</td>\n",
       "      <td>93.154812</td>\n",
       "      <td>...</td>\n",
       "      <td>2.0</td>\n",
       "      <td>0.0</td>\n",
       "      <td>2.0</td>\n",
       "      <td>5.0</td>\n",
       "      <td>2.0</td>\n",
       "      <td>4.0</td>\n",
       "      <td>4.0</td>\n",
       "      <td>0.0</td>\n",
       "      <td>{\"type\": \"Polygon\", \"coordinates\": [[[1.732068...</td>\n",
       "      <td>49.058878265, 1.74176317637</td>\n",
       "    </tr>\n",
       "    <tr>\n",
       "      <th>3</th>\n",
       "      <td>95523</td>\n",
       "      <td>La Roche-Guyon</td>\n",
       "      <td>11</td>\n",
       "      <td>95</td>\n",
       "      <td>446.0</td>\n",
       "      <td>447.0</td>\n",
       "      <td>4.61</td>\n",
       "      <td>18.0</td>\n",
       "      <td>21.0</td>\n",
       "      <td>186.507593</td>\n",
       "      <td>...</td>\n",
       "      <td>0.0</td>\n",
       "      <td>6.0</td>\n",
       "      <td>6.0</td>\n",
       "      <td>48.0</td>\n",
       "      <td>17.0</td>\n",
       "      <td>14.0</td>\n",
       "      <td>13.0</td>\n",
       "      <td>4.0</td>\n",
       "      <td>{\"type\": \"Polygon\", \"coordinates\": [[[1.623323...</td>\n",
       "      <td>49.0883415268, 1.63442788467</td>\n",
       "    </tr>\n",
       "    <tr>\n",
       "      <th>4</th>\n",
       "      <td>95678</td>\n",
       "      <td>Villiers-Adam</td>\n",
       "      <td>11</td>\n",
       "      <td>95</td>\n",
       "      <td>838.0</td>\n",
       "      <td>828.0</td>\n",
       "      <td>9.82</td>\n",
       "      <td>45.0</td>\n",
       "      <td>29.0</td>\n",
       "      <td>340.831981</td>\n",
       "      <td>...</td>\n",
       "      <td>6.0</td>\n",
       "      <td>3.0</td>\n",
       "      <td>8.0</td>\n",
       "      <td>53.0</td>\n",
       "      <td>12.0</td>\n",
       "      <td>5.0</td>\n",
       "      <td>14.0</td>\n",
       "      <td>2.0</td>\n",
       "      <td>{\"type\": \"Polygon\", \"coordinates\": [[[2.236020...</td>\n",
       "      <td>49.0697597649, 2.23847351378</td>\n",
       "    </tr>\n",
       "  </tbody>\n",
       "</table>\n",
       "<p>5 rows × 38 columns</p>\n",
       "</div>"
      ],
      "text/plain": [
       "   CODGEO                LIBGEO  REG  DEP  P14_POP  P09_POP  SUPERF  NAIS0914  \\\n",
       "0   95555         Saint-Gratien   11   95  20996.0  20258.0    2.42    1564.0   \n",
       "1   95488            Pierrelaye   11   95   8155.0   7920.0    9.21     639.0   \n",
       "2   95543  Saint-Cyr-en-Arthies   11   95    242.0    229.0    3.89       9.0   \n",
       "3   95523        La Roche-Guyon   11   95    446.0    447.0    4.61      18.0   \n",
       "4   95678         Villiers-Adam   11   95    838.0    828.0    9.82      45.0   \n",
       "\n",
       "   DECE0914      P14_MEN  ...  ETAZ15  ETBE15  ETFZ15  ETGU15  ETGZ15  ETOQ15  \\\n",
       "0     749.0  8909.817815  ...     3.0    38.0   142.0  1078.0   225.0   214.0   \n",
       "1     243.0  2891.000000  ...     8.0    47.0   135.0   623.0   241.0    65.0   \n",
       "2       4.0    93.154812  ...     2.0     0.0     2.0     5.0     2.0     4.0   \n",
       "3      21.0   186.507593  ...     0.0     6.0     6.0    48.0    17.0    14.0   \n",
       "4      29.0   340.831981  ...     6.0     3.0     8.0    53.0    12.0     5.0   \n",
       "\n",
       "   ETTEF115  ETTEFP1015                                          Geo Shape  \\\n",
       "0     335.0        67.0  {\"type\": \"Polygon\", \"coordinates\": [[[2.274621...   \n",
       "1     228.0        72.0  {\"type\": \"Polygon\", \"coordinates\": [[[2.193617...   \n",
       "2       4.0         0.0  {\"type\": \"Polygon\", \"coordinates\": [[[1.732068...   \n",
       "3      13.0         4.0  {\"type\": \"Polygon\", \"coordinates\": [[[1.623323...   \n",
       "4      14.0         2.0  {\"type\": \"Polygon\", \"coordinates\": [[[2.236020...   \n",
       "\n",
       "                   geo_point_2d  \n",
       "0  48.9695044801, 2.28470111182  \n",
       "1   49.0190794714, 2.1606870483  \n",
       "2   49.058878265, 1.74176317637  \n",
       "3  49.0883415268, 1.63442788467  \n",
       "4  49.0697597649, 2.23847351378  \n",
       "\n",
       "[5 rows x 38 columns]"
      ]
     },
     "execution_count": 27,
     "metadata": {},
     "output_type": "execute_result"
    }
   ],
   "source": [
    "base_dpt.head()"
   ]
  },
  {
   "cell_type": "markdown",
   "metadata": {
    "slideshow": {
     "slide_type": "subslide"
    }
   },
   "source": [
    "# D'autres types de données\n",
    "\n",
    "## JSON\n",
    "Les objets JSON ressemblent à des dictionnaires.\n",
    "\n",
    "On utilise le module `json` puis la fonction `json.loads()` pour transformer une entrée JSON en objet json\n",
    "\n",
    "## HTML\n",
    "On utilise `pd.read_html(url)`. Cet fonction est basée sur les packages `beautifulsoup` et `html5lib`\n",
    "\n",
    "Cette fonction renvoie une liste de DataFrame qui représentent tous les DataFrame de la page. On ira ensuite chercher l'élément qui nous intéresse avec `frame_list[0]`"
   ]
  },
  {
   "cell_type": "markdown",
   "metadata": {
    "slideshow": {
     "slide_type": "subslide"
    }
   },
   "source": [
    "**Exercice :**\n",
    "    \n",
    "Importez un tableau en html depuis la page <http://www.fdic.gov/bank/individual/failed/banklist.html> "
   ]
  },
  {
   "cell_type": "code",
   "execution_count": 28,
   "metadata": {},
   "outputs": [
    {
     "name": "stdout",
     "output_type": "stream",
     "text": [
      "<class 'list'> 1\n"
     ]
    }
   ],
   "source": [
    "web_bank = pd.read_html(\"http://www.fdic.gov/bank/individual/failed/banklist.html\")\n",
    "# cette fonction renvoie une liste de DataFrame afin de gérer plus d'un tableau dans une page\n",
    "print(type(web_bank),len(web_bank))"
   ]
  },
  {
   "cell_type": "code",
   "execution_count": 29,
   "metadata": {},
   "outputs": [
    {
     "data": {
      "text/html": [
       "<div>\n",
       "<style scoped>\n",
       "    .dataframe tbody tr th:only-of-type {\n",
       "        vertical-align: middle;\n",
       "    }\n",
       "\n",
       "    .dataframe tbody tr th {\n",
       "        vertical-align: top;\n",
       "    }\n",
       "\n",
       "    .dataframe thead th {\n",
       "        text-align: right;\n",
       "    }\n",
       "</style>\n",
       "<table border=\"1\" class=\"dataframe\">\n",
       "  <thead>\n",
       "    <tr style=\"text-align: right;\">\n",
       "      <th></th>\n",
       "      <th>Bank Name</th>\n",
       "      <th>City</th>\n",
       "      <th>ST</th>\n",
       "      <th>CERT</th>\n",
       "      <th>Acquiring Institution</th>\n",
       "      <th>Closing Date</th>\n",
       "    </tr>\n",
       "  </thead>\n",
       "  <tbody>\n",
       "    <tr>\n",
       "      <th>0</th>\n",
       "      <td>Ericson State Bank</td>\n",
       "      <td>Ericson</td>\n",
       "      <td>NE</td>\n",
       "      <td>18265</td>\n",
       "      <td>Farmers and Merchants Bank</td>\n",
       "      <td>February 14, 2020</td>\n",
       "    </tr>\n",
       "    <tr>\n",
       "      <th>1</th>\n",
       "      <td>City National Bank of New Jersey</td>\n",
       "      <td>Newark</td>\n",
       "      <td>NJ</td>\n",
       "      <td>21111</td>\n",
       "      <td>Industrial Bank</td>\n",
       "      <td>November 1, 2019</td>\n",
       "    </tr>\n",
       "    <tr>\n",
       "      <th>2</th>\n",
       "      <td>Resolute Bank</td>\n",
       "      <td>Maumee</td>\n",
       "      <td>OH</td>\n",
       "      <td>58317</td>\n",
       "      <td>Buckeye State Bank</td>\n",
       "      <td>October 25, 2019</td>\n",
       "    </tr>\n",
       "    <tr>\n",
       "      <th>3</th>\n",
       "      <td>Louisa Community Bank</td>\n",
       "      <td>Louisa</td>\n",
       "      <td>KY</td>\n",
       "      <td>58112</td>\n",
       "      <td>Kentucky Farmers Bank Corporation</td>\n",
       "      <td>October 25, 2019</td>\n",
       "    </tr>\n",
       "    <tr>\n",
       "      <th>4</th>\n",
       "      <td>The Enloe State Bank</td>\n",
       "      <td>Cooper</td>\n",
       "      <td>TX</td>\n",
       "      <td>10716</td>\n",
       "      <td>Legend Bank, N. A.</td>\n",
       "      <td>May 31, 2019</td>\n",
       "    </tr>\n",
       "  </tbody>\n",
       "</table>\n",
       "</div>"
      ],
      "text/plain": [
       "                          Bank Name     City  ST   CERT  \\\n",
       "0                Ericson State Bank  Ericson  NE  18265   \n",
       "1  City National Bank of New Jersey   Newark  NJ  21111   \n",
       "2                     Resolute Bank   Maumee  OH  58317   \n",
       "3             Louisa Community Bank   Louisa  KY  58112   \n",
       "4              The Enloe State Bank   Cooper  TX  10716   \n",
       "\n",
       "               Acquiring Institution       Closing Date  \n",
       "0         Farmers and Merchants Bank  February 14, 2020  \n",
       "1                    Industrial Bank   November 1, 2019  \n",
       "2                 Buckeye State Bank   October 25, 2019  \n",
       "3  Kentucky Farmers Bank Corporation   October 25, 2019  \n",
       "4                 Legend Bank, N. A.       May 31, 2019  "
      ]
     },
     "execution_count": 29,
     "metadata": {},
     "output_type": "execute_result"
    }
   ],
   "source": [
    "web_bank[0].head()"
   ]
  },
  {
   "cell_type": "code",
   "execution_count": 30,
   "metadata": {},
   "outputs": [],
   "source": [
    "frame_bank = web_bank[0]"
   ]
  },
  {
   "cell_type": "code",
   "execution_count": 31,
   "metadata": {},
   "outputs": [
    {
     "name": "stdout",
     "output_type": "stream",
     "text": [
      "Bien importé !\n"
     ]
    }
   ],
   "source": [
    "# pour vérifier que vous avez bien répondu à l'exercice, soumettre cette cellule\n",
    "# on utilise maj + Entrée\n",
    "assert type(frame_bank) == pd.DataFrame\n",
    "print(\"Bien importé !\")"
   ]
  },
  {
   "cell_type": "markdown",
   "metadata": {
    "slideshow": {
     "slide_type": "subslide"
    }
   },
   "source": [
    "# Importer depuis Excel\n",
    "\n",
    "On a deux approches pour Excel :\n",
    "- On peut utiliser `pd.read_excel()`\n",
    "- On peut utiliser la classe `pd.ExcelFile()`\n",
    "\n",
    "Dans ce cas, on utilise :\n",
    "```python\n",
    "xlsfile=pd.ExcelFile('fichier.xlsx')\n",
    "xlsfile.parse('Sheet1')\n",
    "```"
   ]
  },
  {
   "cell_type": "markdown",
   "metadata": {
    "slideshow": {
     "slide_type": "subslide"
    }
   },
   "source": [
    "**Exercice :** \n",
    "    \n",
    "Importez un fichier Excel avec les deux approches, on utilisera : `credit2.xlsx` et `ville.xls`"
   ]
  },
  {
   "cell_type": "markdown",
   "metadata": {},
   "source": [
    "1- avec `pd.read_excel()` pour le fichier `credit2.xlsx`"
   ]
  },
  {
   "cell_type": "code",
   "execution_count": 32,
   "metadata": {},
   "outputs": [],
   "source": [
    "credit2 = pd.read_excel(\"./data/credit2.xlsx\")"
   ]
  },
  {
   "cell_type": "code",
   "execution_count": 33,
   "metadata": {},
   "outputs": [
    {
     "name": "stdout",
     "output_type": "stream",
     "text": [
      "Bravo !\n"
     ]
    }
   ],
   "source": [
    "# pour vérifier que vous avez bien répondu à l'exercice, soumettre cette cellule\n",
    "# on utilise maj + Entrée\n",
    "assert credit2[\"Age\"].max() == 83\n",
    "print(\"Bravo !\")"
   ]
  },
  {
   "cell_type": "markdown",
   "metadata": {},
   "source": [
    "2- avec `pd.ExcelFile()` pour le fichier `ville.xls`"
   ]
  },
  {
   "cell_type": "code",
   "execution_count": 34,
   "metadata": {},
   "outputs": [],
   "source": [
    "ville_excel = pd.ExcelFile(\"./data/ville.xls\")"
   ]
  },
  {
   "cell_type": "code",
   "execution_count": 35,
   "metadata": {},
   "outputs": [],
   "source": [
    "frame_ville = ville_excel.parse(\"ville\")"
   ]
  },
  {
   "cell_type": "code",
   "execution_count": 36,
   "metadata": {},
   "outputs": [
    {
     "name": "stdout",
     "output_type": "stream",
     "text": [
      "Bravo !\n"
     ]
    }
   ],
   "source": [
    "# pour vérifier que vous avez bien répondu à l'exercice, soumettre cette cellule\n",
    "# on utilise maj + Entrée\n",
    "assert type(frame_ville) == pd.DataFrame\n",
    "print(\"Bravo !\")"
   ]
  },
  {
   "cell_type": "code",
   "execution_count": 37,
   "metadata": {},
   "outputs": [
    {
     "data": {
      "image/png": "[encoded data removed]",
      "text/plain": [
       "<Figure size 432x288 with 1 Axes>"
      ]
     },
     "metadata": {
      "needs_background": "light"
     },
     "output_type": "display_data"
    }
   ],
   "source": [
    "import matplotlib.pyplot as plt\n",
    "plt.scatter(\" Longitude \", \" Latitude \",data=frame_ville, s=1)\n",
    "plt.savefig(\"France.jpg\")"
   ]
  },
  {
   "cell_type": "markdown",
   "metadata": {
    "slideshow": {
     "slide_type": "subslide"
    }
   },
   "source": [
    "# Importer des données SQL\n",
    "\n",
    "Pandas possède une fonction `read_sql()` qui permet d’importer directement des bases de données ou des queries dans des DataFrame\n",
    "\n",
    "Il faut tout de même un connecteur pour accéder aux bases de données\n",
    "\n",
    "Pour mettre en place ce connecteur, on utlise le package SQLAlchemy.\n",
    "\n",
    "Suivant le type de base de données, on utilisera différents codes mais la structure du code est toujours la même"
   ]
  },
  {
   "cell_type": "code",
   "execution_count": 38,
   "metadata": {
    "slideshow": {
     "slide_type": "subslide"
    }
   },
   "outputs": [],
   "source": [
    "# on importe l'outil de connexion\n",
    "from sqlalchemy import create_engine"
   ]
  },
  {
   "cell_type": "markdown",
   "metadata": {
    "slideshow": {
     "slide_type": "fragment"
    }
   },
   "source": [
    "On crée une connexion\n",
    "```python\n",
    "connexion=create_engine(\"sqlite:///(...).sqlite\")\n",
    "```"
   ]
  },
  {
   "cell_type": "markdown",
   "metadata": {
    "slideshow": {
     "slide_type": "fragment"
    }
   },
   "source": [
    "On utlise une des fonctions de Pandas pour charger les données\n",
    "```python\n",
    "requete=\"\"\"select ... from ...\"\"\"\n",
    "frame_sql=pd.read_sql_query(requete,connexion)\n",
    "```"
   ]
  },
  {
   "cell_type": "markdown",
   "metadata": {
    "slideshow": {
     "slide_type": "subslide"
    }
   },
   "source": [
    "**Exercices :**\n",
    "    \n",
    "Importez la base de données SQLite salaries et récupérez la table Salaries dans un DataFrame \n",
    "\n",
    "*Indice :* On commence par créer la connexion et ensuite on fait la requête `select * from salaries`, la connexion se fait en utilisant l'adresse : \"sqlite:///./data/salaries.sqlite\""
   ]
  },
  {
   "cell_type": "code",
   "execution_count": 39,
   "metadata": {},
   "outputs": [],
   "source": [
    "connexion=create_engine(\"sqlite:///./data/salaries.sqlite\")\n",
    "salaries = pd.read_sql_query(\"select * from salaries\",connexion)"
   ]
  },
  {
   "cell_type": "code",
   "execution_count": 40,
   "metadata": {},
   "outputs": [
    {
     "name": "stdout",
     "output_type": "stream",
     "text": [
      "<class 'pandas.core.frame.DataFrame'>\n",
      "RangeIndex: 148654 entries, 0 to 148653\n",
      "Data columns (total 13 columns):\n",
      " #   Column            Non-Null Count   Dtype  \n",
      "---  ------            --------------   -----  \n",
      " 0   Id                148654 non-null  int64  \n",
      " 1   EmployeeName      148654 non-null  object \n",
      " 2   JobTitle          148654 non-null  object \n",
      " 3   BasePay           148654 non-null  object \n",
      " 4   OvertimePay       148654 non-null  object \n",
      " 5   OtherPay          148654 non-null  object \n",
      " 6   Benefits          148654 non-null  object \n",
      " 7   TotalPay          148654 non-null  float64\n",
      " 8   TotalPayBenefits  148654 non-null  float64\n",
      " 9   Year              148654 non-null  int64  \n",
      " 10  Notes             148654 non-null  object \n",
      " 11  Agency            148654 non-null  object \n",
      " 12  Status            148654 non-null  object \n",
      "dtypes: float64(2), int64(2), object(9)\n",
      "memory usage: 14.7+ MB\n"
     ]
    }
   ],
   "source": [
    "salaries.info()"
   ]
  },
  {
   "cell_type": "code",
   "execution_count": 41,
   "metadata": {},
   "outputs": [
    {
     "data": {
      "text/html": [
       "<div>\n",
       "<style scoped>\n",
       "    .dataframe tbody tr th:only-of-type {\n",
       "        vertical-align: middle;\n",
       "    }\n",
       "\n",
       "    .dataframe tbody tr th {\n",
       "        vertical-align: top;\n",
       "    }\n",
       "\n",
       "    .dataframe thead th {\n",
       "        text-align: right;\n",
       "    }\n",
       "</style>\n",
       "<table border=\"1\" class=\"dataframe\">\n",
       "  <thead>\n",
       "    <tr style=\"text-align: right;\">\n",
       "      <th></th>\n",
       "      <th>Id</th>\n",
       "      <th>EmployeeName</th>\n",
       "      <th>JobTitle</th>\n",
       "      <th>BasePay</th>\n",
       "      <th>OvertimePay</th>\n",
       "      <th>OtherPay</th>\n",
       "      <th>Benefits</th>\n",
       "      <th>TotalPay</th>\n",
       "      <th>TotalPayBenefits</th>\n",
       "      <th>Year</th>\n",
       "      <th>Notes</th>\n",
       "      <th>Agency</th>\n",
       "      <th>Status</th>\n",
       "    </tr>\n",
       "  </thead>\n",
       "  <tbody>\n",
       "    <tr>\n",
       "      <th>0</th>\n",
       "      <td>1</td>\n",
       "      <td>NATHANIEL FORD</td>\n",
       "      <td>GENERAL MANAGER-METROPOLITAN TRANSIT AUTHORITY</td>\n",
       "      <td>167411</td>\n",
       "      <td>0</td>\n",
       "      <td>400184</td>\n",
       "      <td></td>\n",
       "      <td>567595.43</td>\n",
       "      <td>567595.43</td>\n",
       "      <td>2011</td>\n",
       "      <td></td>\n",
       "      <td>San Francisco</td>\n",
       "      <td></td>\n",
       "    </tr>\n",
       "    <tr>\n",
       "      <th>1</th>\n",
       "      <td>2</td>\n",
       "      <td>GARY JIMENEZ</td>\n",
       "      <td>CAPTAIN III (POLICE DEPARTMENT)</td>\n",
       "      <td>155966</td>\n",
       "      <td>245132</td>\n",
       "      <td>137811</td>\n",
       "      <td></td>\n",
       "      <td>538909.28</td>\n",
       "      <td>538909.28</td>\n",
       "      <td>2011</td>\n",
       "      <td></td>\n",
       "      <td>San Francisco</td>\n",
       "      <td></td>\n",
       "    </tr>\n",
       "    <tr>\n",
       "      <th>2</th>\n",
       "      <td>3</td>\n",
       "      <td>ALBERT PARDINI</td>\n",
       "      <td>CAPTAIN III (POLICE DEPARTMENT)</td>\n",
       "      <td>212739</td>\n",
       "      <td>106088</td>\n",
       "      <td>16452.6</td>\n",
       "      <td></td>\n",
       "      <td>335279.91</td>\n",
       "      <td>335279.91</td>\n",
       "      <td>2011</td>\n",
       "      <td></td>\n",
       "      <td>San Francisco</td>\n",
       "      <td></td>\n",
       "    </tr>\n",
       "    <tr>\n",
       "      <th>3</th>\n",
       "      <td>4</td>\n",
       "      <td>CHRISTOPHER CHONG</td>\n",
       "      <td>WIRE ROPE CABLE MAINTENANCE MECHANIC</td>\n",
       "      <td>77916</td>\n",
       "      <td>56120.7</td>\n",
       "      <td>198307</td>\n",
       "      <td></td>\n",
       "      <td>332343.61</td>\n",
       "      <td>332343.61</td>\n",
       "      <td>2011</td>\n",
       "      <td></td>\n",
       "      <td>San Francisco</td>\n",
       "      <td></td>\n",
       "    </tr>\n",
       "    <tr>\n",
       "      <th>4</th>\n",
       "      <td>5</td>\n",
       "      <td>PATRICK GARDNER</td>\n",
       "      <td>DEPUTY CHIEF OF DEPARTMENT,(FIRE DEPARTMENT)</td>\n",
       "      <td>134402</td>\n",
       "      <td>9737</td>\n",
       "      <td>182235</td>\n",
       "      <td></td>\n",
       "      <td>326373.19</td>\n",
       "      <td>326373.19</td>\n",
       "      <td>2011</td>\n",
       "      <td></td>\n",
       "      <td>San Francisco</td>\n",
       "      <td></td>\n",
       "    </tr>\n",
       "  </tbody>\n",
       "</table>\n",
       "</div>"
      ],
      "text/plain": [
       "   Id       EmployeeName                                        JobTitle  \\\n",
       "0   1     NATHANIEL FORD  GENERAL MANAGER-METROPOLITAN TRANSIT AUTHORITY   \n",
       "1   2       GARY JIMENEZ                 CAPTAIN III (POLICE DEPARTMENT)   \n",
       "2   3     ALBERT PARDINI                 CAPTAIN III (POLICE DEPARTMENT)   \n",
       "3   4  CHRISTOPHER CHONG            WIRE ROPE CABLE MAINTENANCE MECHANIC   \n",
       "4   5    PATRICK GARDNER    DEPUTY CHIEF OF DEPARTMENT,(FIRE DEPARTMENT)   \n",
       "\n",
       "  BasePay OvertimePay OtherPay Benefits   TotalPay  TotalPayBenefits  Year  \\\n",
       "0  167411           0   400184           567595.43         567595.43  2011   \n",
       "1  155966      245132   137811           538909.28         538909.28  2011   \n",
       "2  212739      106088  16452.6           335279.91         335279.91  2011   \n",
       "3   77916     56120.7   198307           332343.61         332343.61  2011   \n",
       "4  134402        9737   182235           326373.19         326373.19  2011   \n",
       "\n",
       "  Notes         Agency Status  \n",
       "0        San Francisco         \n",
       "1        San Francisco         \n",
       "2        San Francisco         \n",
       "3        San Francisco         \n",
       "4        San Francisco         "
      ]
     },
     "execution_count": 41,
     "metadata": {},
     "output_type": "execute_result"
    }
   ],
   "source": [
    "salaries.head()"
   ]
  },
  {
   "cell_type": "code",
   "execution_count": null,
   "metadata": {},
   "outputs": [],
   "source": []
  },
  {
   "cell_type": "code",
   "execution_count": 42,
   "metadata": {},
   "outputs": [
    {
     "name": "stdout",
     "output_type": "stream",
     "text": [
      "Bravo !\n"
     ]
    }
   ],
   "source": [
    "# pour vérifier que vous avez bien répondu à l'exercice, soumettre cette cellule\n",
    "# on utilise maj + Entrée\n",
    "assert type(salaries) == pd.DataFrame\n",
    "print(\"Bravo !\")"
   ]
  },
  {
   "cell_type": "markdown",
   "metadata": {},
   "source": [
    "## Récupérer des données SAS"
   ]
  },
  {
   "cell_type": "code",
   "execution_count": 43,
   "metadata": {},
   "outputs": [],
   "source": [
    "base_sas = pd.read_sas(\"./data/bce_uai.sas7bdat\")"
   ]
  },
  {
   "cell_type": "code",
   "execution_count": 44,
   "metadata": {},
   "outputs": [
    {
     "data": {
      "text/plain": [
       "b'JULES FERRY'           499\n",
       "b'JACQUES PREVERT'       370\n",
       "b'JEAN MOULIN'           362\n",
       "b'SAINT JOSEPH'          350\n",
       "b'JEAN JAURES'           319\n",
       "                        ... \n",
       "b'DE PLUM'                 1\n",
       "b'HUBERT FILLAY'           1\n",
       "b'EMILE MARTIN'            1\n",
       "b'RUE DE QUIMPER'          1\n",
       "b'LPO ROMAIN ROLLAND'      1\n",
       "Name: PATRONYME_UAI, Length: 27874, dtype: int64"
      ]
     },
     "execution_count": 44,
     "metadata": {},
     "output_type": "execute_result"
    }
   ],
   "source": [
    "# on étudie les noms des écoles\n",
    "base_sas[\"PATRONYME_UAI\"].value_counts()"
   ]
  },
  {
   "cell_type": "markdown",
   "metadata": {
    "slideshow": {
     "slide_type": "slide"
    }
   },
   "source": [
    "# Les tris avec Pandas \n",
    "\n",
    "Pour effectuer des tris, on utilise :\n",
    "- `.sort_index()` pour le tri des index\n",
    "- `.sort_values()` pour le tri des données\n",
    "- `.rank()` affiche le rang des observations\n",
    "\n",
    "Il peut y avoir plusieurs tris dans la même opération. Dans ce cas, on utilise des listes de colonnes :\n",
    "```python\n",
    "frame.sort_values([\"col_1\",\"col_2\"])\n",
    "```"
   ]
  },
  {
   "cell_type": "markdown",
   "metadata": {
    "slideshow": {
     "slide_type": "subslide"
    }
   },
   "source": [
    "**Exercice :** \n",
    "    \n",
    "Triez les données sur les salaires en se basant sur le BasePay et le JobTitle"
   ]
  },
  {
   "cell_type": "code",
   "execution_count": 45,
   "metadata": {},
   "outputs": [],
   "source": [
    "salaries_sorted = salaries.sort_values([ \"JobTitle\",\"BasePay\"])"
   ]
  },
  {
   "cell_type": "code",
   "execution_count": 46,
   "metadata": {},
   "outputs": [
    {
     "name": "stdout",
     "output_type": "stream",
     "text": [
      "Bravo !\n"
     ]
    }
   ],
   "source": [
    "# pour vérifier que vous avez bien répondu à l'exercice, soumettre cette cellule\n",
    "# on utilise maj + Entrée\n",
    "assert salaries_sorted[\"JobTitle\"].min() == salaries_sorted[\"JobTitle\"].iloc[0]\n",
    "print(\"Bravo !\")"
   ]
  },
  {
   "cell_type": "markdown",
   "metadata": {},
   "source": [
    "## Exportez des fichiers \n",
    "\n",
    "La plupart des outils d'importation existent en exportation, on utilise :\n",
    "```\n",
    "frame.to_csv(\"fichier.csv\")\n",
    "```\n"
   ]
  },
  {
   "cell_type": "markdown",
   "metadata": {},
   "source": [
    "**Exercice :**\n",
    "    \n",
    "Exportez les données salaries dans un fichier Excel"
   ]
  },
  {
   "cell_type": "code",
   "execution_count": 47,
   "metadata": {},
   "outputs": [],
   "source": [
    "salaries_sorted.to_excel(\"./data/salaries.xlsx\")"
   ]
  },
  {
   "cell_type": "markdown",
   "metadata": {
    "slideshow": {
     "slide_type": "slide"
    }
   },
   "source": [
    "# Les statistiques simples\n",
    "\n",
    "Les Dataframe possèdent de nombreuses méthodes pour calculer des statistiques simples :\n",
    "- `.sum(axis=0)` permet de faire une somme par colonne\n",
    "- `.sum(axis=1)` permet de faire une somme par ligne\n",
    "- `.min()` et `.max()` donnent le minimum par colonne\n",
    "- `.idxmin()` et `.idxmax()` donnent l’index du minimum et du maximum\n",
    "- `.describe()` affiche un tableau de statistiques descriptives par colonne\n",
    "- `.corr()` pour calculer la corrélation entre les colonnes"
   ]
  },
  {
   "cell_type": "markdown",
   "metadata": {
    "slideshow": {
     "slide_type": "subslide"
    }
   },
   "source": [
    "**Exercice :**\n",
    "    \n",
    "Obtenir les moyennes et variances de la colonne `TotalPay` pour les données Salaries.\n"
   ]
  },
  {
   "cell_type": "code",
   "execution_count": 48,
   "metadata": {},
   "outputs": [
    {
     "name": "stdout",
     "output_type": "stream",
     "text": [
      "74768.321971703 2551967821.8482866\n"
     ]
    }
   ],
   "source": [
    "print(salaries[\"TotalPay\"].mean(),salaries[\"TotalPay\"].var())"
   ]
  },
  {
   "cell_type": "markdown",
   "metadata": {},
   "source": [
    "**Exercice ++ :**\n",
    "\n",
    "Calculer la moyenne des prix des appartements airbnb\n",
    "\n",
    "*Attention :* la colonne `price`a des problèmes"
   ]
  },
  {
   "cell_type": "code",
   "execution_count": 49,
   "metadata": {},
   "outputs": [
    {
     "data": {
      "text/plain": [
       "dtype('O')"
      ]
     },
     "execution_count": 49,
     "metadata": {},
     "output_type": "execute_result"
    }
   ],
   "source": [
    "airbnb[\"price\"].dtype"
   ]
  },
  {
   "cell_type": "markdown",
   "metadata": {},
   "source": [
    "Le type 'O' est apppelé objet et n'est donc pas nmérique (donc pas de moyenne !!)\n",
    "\n",
    "On commence par trasformer en numérique !\n",
    "\n",
    "Deux indices :\n",
    "- on peut utiliser la fonction `pd.to_numeric(___)`\n",
    "- une colonne de texte a de nombreuses méthode, si on veut remplacer dans une colonne de texte, on utiliser : `data[\"colonne\"].str.replace(___,___)`"
   ]
  },
  {
   "cell_type": "code",
   "execution_count": 50,
   "metadata": {},
   "outputs": [
    {
     "name": "stdout",
     "output_type": "stream",
     "text": [
      "116.32598180157629\n"
     ]
    }
   ],
   "source": [
    "# on ajoute une colonne à la fin du dataframe :\n",
    "airbnb[\"price_num\"] = pd.to_numeric(airbnb[\"price\"].str.replace(\"$\",\"\").str.replace(\",\",\"\"))\n",
    "\n",
    "print(airbnb[\"price_num\"].mean())"
   ]
  },
  {
   "cell_type": "code",
   "execution_count": 51,
   "metadata": {},
   "outputs": [
    {
     "name": "stdout",
     "output_type": "stream",
     "text": [
      "Bravo !\n"
     ]
    }
   ],
   "source": [
    "# pour vérifier que vous avez bien répondu à l'exercice, soumettre cette cellule\n",
    "# on utilise maj + Entrée\n",
    "assert airbnb[\"price_num\"].max() == 9379\n",
    "print(\"Bravo !\")"
   ]
  },
  {
   "cell_type": "markdown",
   "metadata": {
    "slideshow": {
     "slide_type": "slide"
    }
   },
   "source": [
    "# Le traitement des données manquantes\n",
    "\n",
    "- Les données manquantes sont identifiées par `NaN`\n",
    "\n",
    "\n",
    "- `.dropna()` permet de retirer les données manquantes dans un objet Series et l’ensemble d’une ligne dans le cas d’un DataFrame\n",
    "- Pour éliminer par colonne, on utilise `.dropna(axis=1)`\n",
    "- Remplacer toutes les données manquantes `.fillna(valeur)`\n"
   ]
  },
  {
   "cell_type": "markdown",
   "metadata": {
    "slideshow": {
     "slide_type": "slide"
    }
   },
   "source": [
    "# Les jointures avec Pandas\n",
    "\n",
    "On veut joindre des jeux de données en utilisant des clés (variables communes)\n",
    "\n",
    "- `pd.merge()` permet de joindre deux DataFrame, on utilise comme options `on='key'`\n",
    "\n",
    "- On peut utiliser comme option `how=`, on peut avoir :\n",
    "    - `left` dans ce cas, on garde le jeu de données à gauche et pour les données de droite des valeurs manquantes sont ajoutées.\n",
    "    - `outer`, on garde toutes les valeurs des deux jeux de données\n",
    "    - ...\n",
    "\n",
    "- On peut avoir plusieurs clés et faire une jointure sur les deux clés `on=['key1','key2']`\n",
    "\n",
    "Pour plus de détails : <http://pandas.pydata.org/pandas-docs/dev/generated/pandas.DataFrame.merge.html>\n"
   ]
  },
  {
   "cell_type": "markdown",
   "metadata": {
    "slideshow": {
     "slide_type": "subslide"
    }
   },
   "source": [
    "**Exercice :**\n",
    "    \n",
    "Joindre deux dataframes (credit1 et credit2). On commence par importer `credit1.txt`\n"
   ]
  },
  {
   "cell_type": "code",
   "execution_count": 52,
   "metadata": {},
   "outputs": [],
   "source": [
    "credit1 = pd.read_table(\"./data/credit1.txt\")\n",
    "credit2 = pd.read_excel(\"./data/credit2.xlsx\")"
   ]
  },
  {
   "cell_type": "code",
   "execution_count": 53,
   "metadata": {},
   "outputs": [],
   "source": [
    "credit_merged = pd.merge(credit1,credit2,left_on='Customer_ID',right_on='Customer_ID')"
   ]
  },
  {
   "cell_type": "code",
   "execution_count": 54,
   "metadata": {},
   "outputs": [
    {
     "data": {
      "text/html": [
       "<div>\n",
       "<style scoped>\n",
       "    .dataframe tbody tr th:only-of-type {\n",
       "        vertical-align: middle;\n",
       "    }\n",
       "\n",
       "    .dataframe tbody tr th {\n",
       "        vertical-align: top;\n",
       "    }\n",
       "\n",
       "    .dataframe thead th {\n",
       "        text-align: right;\n",
       "    }\n",
       "</style>\n",
       "<table border=\"1\" class=\"dataframe\">\n",
       "  <thead>\n",
       "    <tr style=\"text-align: right;\">\n",
       "      <th></th>\n",
       "      <th>Months_as_a_Customer</th>\n",
       "      <th>Number_of_Products</th>\n",
       "      <th>RFM_Score</th>\n",
       "      <th>Average_Balance_Feed_Index</th>\n",
       "      <th>Number_of_Transactions</th>\n",
       "      <th>Personal_Debt_to_Equity_Ratio</th>\n",
       "      <th>Months_Current_Account</th>\n",
       "      <th>Number_of_Loan_Accounts</th>\n",
       "      <th>Customer_ID</th>\n",
       "      <th>Has_Bad_Payment_Record</th>\n",
       "      <th>...</th>\n",
       "      <th>Interested_in_Credit_Card</th>\n",
       "      <th>Age</th>\n",
       "      <th>Gender</th>\n",
       "      <th>Marital_Status</th>\n",
       "      <th>Age_Youngest_Child</th>\n",
       "      <th>Number_of_Workers_in_Household</th>\n",
       "      <th>Percentage_White_Collar_Workers</th>\n",
       "      <th>Household_Debt_to_Equity_Ratio</th>\n",
       "      <th>Income</th>\n",
       "      <th>Homeowner</th>\n",
       "    </tr>\n",
       "  </thead>\n",
       "  <tbody>\n",
       "    <tr>\n",
       "      <th>0</th>\n",
       "      <td>24</td>\n",
       "      <td>3</td>\n",
       "      <td>10</td>\n",
       "      <td>229</td>\n",
       "      <td>2</td>\n",
       "      <td>40</td>\n",
       "      <td>13</td>\n",
       "      <td>0</td>\n",
       "      <td>5409</td>\n",
       "      <td>0</td>\n",
       "      <td>...</td>\n",
       "      <td>F</td>\n",
       "      <td>40</td>\n",
       "      <td>F</td>\n",
       "      <td>S</td>\n",
       "      <td>11</td>\n",
       "      <td>6</td>\n",
       "      <td>37</td>\n",
       "      <td>56</td>\n",
       "      <td>37073</td>\n",
       "      <td>F</td>\n",
       "    </tr>\n",
       "    <tr>\n",
       "      <th>1</th>\n",
       "      <td>12</td>\n",
       "      <td>2</td>\n",
       "      <td>12</td>\n",
       "      <td>8</td>\n",
       "      <td>1</td>\n",
       "      <td>47</td>\n",
       "      <td>5</td>\n",
       "      <td>2</td>\n",
       "      <td>5477</td>\n",
       "      <td>0</td>\n",
       "      <td>...</td>\n",
       "      <td>F</td>\n",
       "      <td>47</td>\n",
       "      <td>M</td>\n",
       "      <td>M</td>\n",
       "      <td>13</td>\n",
       "      <td>13</td>\n",
       "      <td>30</td>\n",
       "      <td>56</td>\n",
       "      <td>50721</td>\n",
       "      <td>F</td>\n",
       "    </tr>\n",
       "    <tr>\n",
       "      <th>2</th>\n",
       "      <td>36</td>\n",
       "      <td>0</td>\n",
       "      <td>0</td>\n",
       "      <td>0</td>\n",
       "      <td>0</td>\n",
       "      <td>35</td>\n",
       "      <td>31</td>\n",
       "      <td>0</td>\n",
       "      <td>5507</td>\n",
       "      <td>0</td>\n",
       "      <td>...</td>\n",
       "      <td>F</td>\n",
       "      <td>35</td>\n",
       "      <td>F</td>\n",
       "      <td>U</td>\n",
       "      <td>1</td>\n",
       "      <td>9</td>\n",
       "      <td>33</td>\n",
       "      <td>57</td>\n",
       "      <td>43578</td>\n",
       "      <td>T</td>\n",
       "    </tr>\n",
       "    <tr>\n",
       "      <th>3</th>\n",
       "      <td>0</td>\n",
       "      <td>0</td>\n",
       "      <td>0</td>\n",
       "      <td>0</td>\n",
       "      <td>0</td>\n",
       "      <td>45</td>\n",
       "      <td>-3</td>\n",
       "      <td>0</td>\n",
       "      <td>8</td>\n",
       "      <td>0</td>\n",
       "      <td>...</td>\n",
       "      <td>F</td>\n",
       "      <td>45</td>\n",
       "      <td>M</td>\n",
       "      <td>U</td>\n",
       "      <td>15</td>\n",
       "      <td>7</td>\n",
       "      <td>30</td>\n",
       "      <td>62</td>\n",
       "      <td>69553</td>\n",
       "      <td>F</td>\n",
       "    </tr>\n",
       "    <tr>\n",
       "      <th>4</th>\n",
       "      <td>48</td>\n",
       "      <td>0</td>\n",
       "      <td>0</td>\n",
       "      <td>0</td>\n",
       "      <td>0</td>\n",
       "      <td>13</td>\n",
       "      <td>39</td>\n",
       "      <td>0</td>\n",
       "      <td>158</td>\n",
       "      <td>0</td>\n",
       "      <td>...</td>\n",
       "      <td>F</td>\n",
       "      <td>13</td>\n",
       "      <td>F</td>\n",
       "      <td>S</td>\n",
       "      <td>0</td>\n",
       "      <td>7</td>\n",
       "      <td>27</td>\n",
       "      <td>64</td>\n",
       "      <td>37502</td>\n",
       "      <td>T</td>\n",
       "    </tr>\n",
       "  </tbody>\n",
       "</table>\n",
       "<p>5 rows × 31 columns</p>\n",
       "</div>"
      ],
      "text/plain": [
       "   Months_as_a_Customer  Number_of_Products  RFM_Score  \\\n",
       "0                    24                   3         10   \n",
       "1                    12                   2         12   \n",
       "2                    36                   0          0   \n",
       "3                     0                   0          0   \n",
       "4                    48                   0          0   \n",
       "\n",
       "   Average_Balance_Feed_Index  Number_of_Transactions  \\\n",
       "0                         229                       2   \n",
       "1                           8                       1   \n",
       "2                           0                       0   \n",
       "3                           0                       0   \n",
       "4                           0                       0   \n",
       "\n",
       "   Personal_Debt_to_Equity_Ratio  Months_Current_Account  \\\n",
       "0                             40                      13   \n",
       "1                             47                       5   \n",
       "2                             35                      31   \n",
       "3                             45                      -3   \n",
       "4                             13                      39   \n",
       "\n",
       "   Number_of_Loan_Accounts  Customer_ID  Has_Bad_Payment_Record  ...  \\\n",
       "0                        0         5409                       0  ...   \n",
       "1                        2         5477                       0  ...   \n",
       "2                        0         5507                       0  ...   \n",
       "3                        0            8                       0  ...   \n",
       "4                        0          158                       0  ...   \n",
       "\n",
       "   Interested_in_Credit_Card  Age  Gender Marital_Status Age_Youngest_Child  \\\n",
       "0                          F   40       F              S                 11   \n",
       "1                          F   47       M              M                 13   \n",
       "2                          F   35       F              U                  1   \n",
       "3                          F   45       M              U                 15   \n",
       "4                          F   13       F              S                  0   \n",
       "\n",
       "  Number_of_Workers_in_Household Percentage_White_Collar_Workers  \\\n",
       "0                              6                              37   \n",
       "1                             13                              30   \n",
       "2                              9                              33   \n",
       "3                              7                              30   \n",
       "4                              7                              27   \n",
       "\n",
       "   Household_Debt_to_Equity_Ratio Income Homeowner  \n",
       "0                              56  37073         F  \n",
       "1                              56  50721         F  \n",
       "2                              57  43578         T  \n",
       "3                              62  69553         F  \n",
       "4                              64  37502         T  \n",
       "\n",
       "[5 rows x 31 columns]"
      ]
     },
     "execution_count": 54,
     "metadata": {},
     "output_type": "execute_result"
    }
   ],
   "source": [
    "credit_merged.head()"
   ]
  },
  {
   "cell_type": "code",
   "execution_count": 55,
   "metadata": {},
   "outputs": [
    {
     "name": "stdout",
     "output_type": "stream",
     "text": [
      "Bravo !\n"
     ]
    }
   ],
   "source": [
    "# pour vérifier que vous avez bien répondu à l'exercice, soumettre cette cellule\n",
    "# on utilise maj + Entrée\n",
    "assert credit_merged.shape[1] == 31\n",
    "print(\"Bravo !\")"
   ]
  },
  {
   "cell_type": "markdown",
   "metadata": {
    "slideshow": {
     "slide_type": "slide"
    }
   },
   "source": [
    "# Gestion des duplications\n",
    "\n",
    "- On utilise `.duplicated()` ou `.drop_duplicates()` dans le cas où on désire effacer les lignes se répétant\n",
    "\n",
    "\n",
    "- On peut se concentrer sur une seule variables en entrant directement le nom de la variable. Dans ce cas, c’est la première apparition qui compte. Si on veut prendre la dernière apparition, on utilise l’option `keep=\"last\"`. On pourra avoir :\n",
    "```python\n",
    "frame1.drop_duplicates([\"col_0\",\"col_1\"],keep=\"last\")\n",
    "```"
   ]
  },
  {
   "cell_type": "markdown",
   "metadata": {
    "slideshow": {
     "slide_type": "slide"
    }
   },
   "source": [
    "# Discrétisation\n",
    "\n",
    "Pour discrétiser, on utilise la fonction `pd.cut()`, on va définir une liste de points pour discrétiser et on entre cette liste comme second paramètre de la fonction.\n",
    "\n",
    "Une fois discrétisé, on peut afficher les modalités obtenues en utilisant `.categories`\n",
    "\n",
    "On peut aussi compter les occurrence en utilisant `pd.value_counts()`\n",
    "\n",
    "Il est aussi possible d’entrer le nombre de segments comme second paramètre\n",
    "\n",
    "On utilisera aussi `qcut()`"
   ]
  },
  {
   "cell_type": "markdown",
   "metadata": {
    "slideshow": {
     "slide_type": "subslide"
    }
   },
   "source": [
    "**Exercice :**\n",
    "    \n",
    "Créez une variable dans le dataframe AirBnB pour obtenir 5 niveaux de prix."
   ]
  },
  {
   "cell_type": "code",
   "execution_count": 56,
   "metadata": {},
   "outputs": [],
   "source": [
    "airbnb[\"price_disc\"] = pd.cut(airbnb[\"price_num\"],5)\n",
    "airbnb[\"price_disc2\"] = pd.qcut(airbnb[\"price_num\"],5)"
   ]
  },
  {
   "cell_type": "code",
   "execution_count": 57,
   "metadata": {},
   "outputs": [
    {
     "data": {
      "text/plain": [
       "<matplotlib.axes._subplots.AxesSubplot at 0x28d9fbfa688>"
      ]
     },
     "execution_count": 57,
     "metadata": {},
     "output_type": "execute_result"
    },
    {
     "data": {
      "image/png": "[encoded data removed]",
      "text/plain": [
       "<Figure size 432x288 with 1 Axes>"
      ]
     },
     "metadata": {
      "needs_background": "light"
     },
     "output_type": "display_data"
    }
   ],
   "source": [
    "# on représente la distribution des modalités\n",
    "airbnb[\"price_disc\"].value_counts().plot(kind=\"bar\")"
   ]
  },
  {
   "cell_type": "code",
   "execution_count": 58,
   "metadata": {},
   "outputs": [
    {
     "data": {
      "text/plain": [
       "<matplotlib.axes._subplots.AxesSubplot at 0x28da8b4dfc8>"
      ]
     },
     "execution_count": 58,
     "metadata": {},
     "output_type": "execute_result"
    },
    {
     "data": {
      "image/png": "[encoded data removed]",
      "text/plain": [
       "<Figure size 432x288 with 1 Axes>"
      ]
     },
     "metadata": {
      "needs_background": "light"
     },
     "output_type": "display_data"
    }
   ],
   "source": [
    "airbnb[\"price_disc2\"].value_counts().plot(kind=\"bar\")"
   ]
  },
  {
   "cell_type": "code",
   "execution_count": 59,
   "metadata": {},
   "outputs": [
    {
     "name": "stdout",
     "output_type": "stream",
     "text": [
      "Bravo !\n"
     ]
    }
   ],
   "source": [
    "assert airbnb[\"price_disc\"].dtype == \"category\"\n",
    "print(\"Bravo !\")"
   ]
  },
  {
   "cell_type": "markdown",
   "metadata": {
    "slideshow": {
     "slide_type": "slide"
    }
   },
   "source": [
    "# Les tableaux croisés avec Pandas\n",
    "\n",
    "Les DataFrame possèdent des méthodes pour générer des tableaux croisés, notamment :\n",
    "```python\n",
    "frame1.pivot_table()\n",
    "```\n",
    "Cette méthode permet de gérer de nombreux cas avec des fonctions standards et sur mesure."
   ]
  },
  {
   "cell_type": "markdown",
   "metadata": {
    "slideshow": {
     "slide_type": "subslide"
    }
   },
   "source": [
    "**Exercice :**\n",
    "    \n",
    "Afficher un tableau Pivot pour les données AirBnB. On veut afficher les moyenne des prix en fonction de deux colonnes du DataFrame"
   ]
  },
  {
   "cell_type": "code",
   "execution_count": 60,
   "metadata": {},
   "outputs": [
    {
     "data": {
      "text/html": [
       "<div>\n",
       "<style scoped>\n",
       "    .dataframe tbody tr th:only-of-type {\n",
       "        vertical-align: middle;\n",
       "    }\n",
       "\n",
       "    .dataframe tbody tr th {\n",
       "        vertical-align: top;\n",
       "    }\n",
       "\n",
       "    .dataframe thead th {\n",
       "        text-align: right;\n",
       "    }\n",
       "</style>\n",
       "<table border=\"1\" class=\"dataframe\">\n",
       "  <thead>\n",
       "    <tr style=\"text-align: right;\">\n",
       "      <th>cancellation_policy</th>\n",
       "      <th>flexible</th>\n",
       "      <th>moderate</th>\n",
       "      <th>strict</th>\n",
       "      <th>strict_14_with_grace_period</th>\n",
       "      <th>super_strict_30</th>\n",
       "      <th>super_strict_60</th>\n",
       "    </tr>\n",
       "    <tr>\n",
       "      <th>room_type</th>\n",
       "      <th></th>\n",
       "      <th></th>\n",
       "      <th></th>\n",
       "      <th></th>\n",
       "      <th></th>\n",
       "      <th></th>\n",
       "    </tr>\n",
       "  </thead>\n",
       "  <tbody>\n",
       "    <tr>\n",
       "      <th>Entire home/apt</th>\n",
       "      <td>95.350408</td>\n",
       "      <td>104.016005</td>\n",
       "      <td>63.0</td>\n",
       "      <td>141.510807</td>\n",
       "      <td>253.656250</td>\n",
       "      <td>590.639286</td>\n",
       "    </tr>\n",
       "    <tr>\n",
       "      <th>Private room</th>\n",
       "      <td>109.948313</td>\n",
       "      <td>125.259901</td>\n",
       "      <td>NaN</td>\n",
       "      <td>92.999418</td>\n",
       "      <td>541.363636</td>\n",
       "      <td>440.000000</td>\n",
       "    </tr>\n",
       "    <tr>\n",
       "      <th>Shared room</th>\n",
       "      <td>73.564220</td>\n",
       "      <td>40.887324</td>\n",
       "      <td>NaN</td>\n",
       "      <td>64.224719</td>\n",
       "      <td>NaN</td>\n",
       "      <td>NaN</td>\n",
       "    </tr>\n",
       "  </tbody>\n",
       "</table>\n",
       "</div>"
      ],
      "text/plain": [
       "cancellation_policy    flexible    moderate  strict  \\\n",
       "room_type                                             \n",
       "Entire home/apt       95.350408  104.016005    63.0   \n",
       "Private room         109.948313  125.259901     NaN   \n",
       "Shared room           73.564220   40.887324     NaN   \n",
       "\n",
       "cancellation_policy  strict_14_with_grace_period  super_strict_30  \\\n",
       "room_type                                                           \n",
       "Entire home/apt                       141.510807       253.656250   \n",
       "Private room                           92.999418       541.363636   \n",
       "Shared room                            64.224719              NaN   \n",
       "\n",
       "cancellation_policy  super_strict_60  \n",
       "room_type                             \n",
       "Entire home/apt           590.639286  \n",
       "Private room              440.000000  \n",
       "Shared room                      NaN  "
      ]
     },
     "execution_count": 60,
     "metadata": {},
     "output_type": "execute_result"
    }
   ],
   "source": [
    "airbnb.pivot_table(values=\"price_num\",index = \"room_type\", columns = \"cancellation_policy\", aggfunc = \"mean\")"
   ]
  },
  {
   "cell_type": "markdown",
   "metadata": {
    "slideshow": {
     "slide_type": "slide"
    }
   },
   "source": [
    "# L'utilisation de GroupBy sur des DataFrame\n",
    "\n",
    "- `.groupby` permet de rassembler des observations en fonction d’une variable dite de groupe\n",
    "\n",
    "\n",
    "- Par exemple, `frame.groupby('X').mean()` donnera les moyennes par groupes de `X`\n",
    "\n",
    "\n",
    "- On peut aussi utiliser `.size()` pour connaître la taille des groupes et utiliser d’autres fonctions (`.sum()`)\n",
    "\n",
    "\n",
    "- On peut effectuer de nombreuses opérations de traitement avec le groupby\n"
   ]
  },
  {
   "cell_type": "markdown",
   "metadata": {
    "slideshow": {
     "slide_type": "subslide"
    }
   },
   "source": [
    "**Exercice :**\n",
    "    \n",
    "- Données sur les salaires\n",
    "\n",
    "\n",
    "- On utilise le `groupby()` pour rassembler les types d’emploi\n",
    "\n",
    "\n",
    "- Et on calcule des statistiques pour chaque type\n",
    "\n",
    "\n",
    "On peut utiliser la méthode `.agg()` avec par exemple `'mean'` comme paramètre\n",
    "\n",
    "On utilise aussi fréquemment la méthode `.apply()` combinée à une fonction lambda"
   ]
  },
  {
   "cell_type": "code",
   "execution_count": 61,
   "metadata": {},
   "outputs": [
    {
     "data": {
      "text/html": [
       "<div>\n",
       "<style scoped>\n",
       "    .dataframe tbody tr th:only-of-type {\n",
       "        vertical-align: middle;\n",
       "    }\n",
       "\n",
       "    .dataframe tbody tr th {\n",
       "        vertical-align: top;\n",
       "    }\n",
       "\n",
       "    .dataframe thead th {\n",
       "        text-align: right;\n",
       "    }\n",
       "</style>\n",
       "<table border=\"1\" class=\"dataframe\">\n",
       "  <thead>\n",
       "    <tr style=\"text-align: right;\">\n",
       "      <th></th>\n",
       "      <th>mean</th>\n",
       "      <th>median</th>\n",
       "      <th>count</th>\n",
       "    </tr>\n",
       "    <tr>\n",
       "      <th>JobTitle</th>\n",
       "      <th></th>\n",
       "      <th></th>\n",
       "      <th></th>\n",
       "    </tr>\n",
       "  </thead>\n",
       "  <tbody>\n",
       "    <tr>\n",
       "      <th>ACCOUNT CLERK</th>\n",
       "      <td>44035.664337</td>\n",
       "      <td>49777.820</td>\n",
       "      <td>83</td>\n",
       "    </tr>\n",
       "    <tr>\n",
       "      <th>ACCOUNTANT</th>\n",
       "      <td>47429.268000</td>\n",
       "      <td>60076.240</td>\n",
       "      <td>5</td>\n",
       "    </tr>\n",
       "    <tr>\n",
       "      <th>ACCOUNTANT INTERN</th>\n",
       "      <td>29031.742917</td>\n",
       "      <td>17658.505</td>\n",
       "      <td>48</td>\n",
       "    </tr>\n",
       "    <tr>\n",
       "      <th>ACPO,JuvP, Juv Prob (SFERS)</th>\n",
       "      <td>62290.780000</td>\n",
       "      <td>62290.780</td>\n",
       "      <td>1</td>\n",
       "    </tr>\n",
       "    <tr>\n",
       "      <th>ACUPUNCTURIST</th>\n",
       "      <td>67594.400000</td>\n",
       "      <td>67594.400</td>\n",
       "      <td>1</td>\n",
       "    </tr>\n",
       "    <tr>\n",
       "      <th>...</th>\n",
       "      <td>...</td>\n",
       "      <td>...</td>\n",
       "      <td>...</td>\n",
       "    </tr>\n",
       "    <tr>\n",
       "      <th>X-RAY LABORATORY AIDE</th>\n",
       "      <td>52705.880385</td>\n",
       "      <td>60333.125</td>\n",
       "      <td>26</td>\n",
       "    </tr>\n",
       "    <tr>\n",
       "      <th>X-Ray Laboratory Aide</th>\n",
       "      <td>50823.942700</td>\n",
       "      <td>60047.290</td>\n",
       "      <td>100</td>\n",
       "    </tr>\n",
       "    <tr>\n",
       "      <th>YOUTH COMMISSION ADVISOR, BOARD OF SUPERVISORS</th>\n",
       "      <td>53632.870000</td>\n",
       "      <td>53632.870</td>\n",
       "      <td>1</td>\n",
       "    </tr>\n",
       "    <tr>\n",
       "      <th>Youth Comm Advisor</th>\n",
       "      <td>41414.307500</td>\n",
       "      <td>44449.895</td>\n",
       "      <td>4</td>\n",
       "    </tr>\n",
       "    <tr>\n",
       "      <th>ZOO CURATOR</th>\n",
       "      <td>66686.560000</td>\n",
       "      <td>66686.560</td>\n",
       "      <td>1</td>\n",
       "    </tr>\n",
       "  </tbody>\n",
       "</table>\n",
       "<p>2159 rows × 3 columns</p>\n",
       "</div>"
      ],
      "text/plain": [
       "                                                        mean     median  count\n",
       "JobTitle                                                                      \n",
       "ACCOUNT CLERK                                   44035.664337  49777.820     83\n",
       "ACCOUNTANT                                      47429.268000  60076.240      5\n",
       "ACCOUNTANT INTERN                               29031.742917  17658.505     48\n",
       "ACPO,JuvP, Juv Prob (SFERS)                     62290.780000  62290.780      1\n",
       "ACUPUNCTURIST                                   67594.400000  67594.400      1\n",
       "...                                                      ...        ...    ...\n",
       "X-RAY LABORATORY AIDE                           52705.880385  60333.125     26\n",
       "X-Ray Laboratory Aide                           50823.942700  60047.290    100\n",
       "YOUTH COMMISSION ADVISOR, BOARD OF SUPERVISORS  53632.870000  53632.870      1\n",
       "Youth Comm Advisor                              41414.307500  44449.895      4\n",
       "ZOO CURATOR                                     66686.560000  66686.560      1\n",
       "\n",
       "[2159 rows x 3 columns]"
      ]
     },
     "execution_count": 61,
     "metadata": {},
     "output_type": "execute_result"
    }
   ],
   "source": [
    "salaries.groupby(\"JobTitle\")[\"TotalPay\"].agg([\"mean\",\"median\",\"count\"])"
   ]
  },
  {
   "cell_type": "markdown",
   "metadata": {},
   "source": [
    "# Analyse d'une enquête avec pandas\n",
    "\n",
    "Nous allons maintenant analyser des données d'enquête avec pandas. On utilisera l'enquête sur les développeurs mise en place par le site Stackoverflow pour l'année 2019"
   ]
  },
  {
   "cell_type": "markdown",
   "metadata": {},
   "source": [
    "https://insights.stackoverflow.com/survey"
   ]
  },
  {
   "cell_type": "markdown",
   "metadata": {},
   "source": [
    "On réupère les données :"
   ]
  },
  {
   "cell_type": "code",
   "execution_count": 62,
   "metadata": {},
   "outputs": [],
   "source": [
    "enquete = pd.read_csv(\"./data/survey_results_public.zip\")"
   ]
  },
  {
   "cell_type": "code",
   "execution_count": 63,
   "metadata": {},
   "outputs": [
    {
     "name": "stdout",
     "output_type": "stream",
     "text": [
      "<class 'pandas.core.frame.DataFrame'>\n",
      "RangeIndex: 88883 entries, 0 to 88882\n",
      "Data columns (total 85 columns):\n",
      " #   Column                  Non-Null Count  Dtype  \n",
      "---  ------                  --------------  -----  \n",
      " 0   Respondent              88883 non-null  int64  \n",
      " 1   MainBranch              88331 non-null  object \n",
      " 2   Hobbyist                88883 non-null  object \n",
      " 3   OpenSourcer             88883 non-null  object \n",
      " 4   OpenSource              86842 non-null  object \n",
      " 5   Employment              87181 non-null  object \n",
      " 6   Country                 88751 non-null  object \n",
      " 7   Student                 87014 non-null  object \n",
      " 8   EdLevel                 86390 non-null  object \n",
      " 9   UndergradMajor          75614 non-null  object \n",
      " 10  EduOther                84260 non-null  object \n",
      " 11  OrgSize                 71791 non-null  object \n",
      " 12  DevType                 81335 non-null  object \n",
      " 13  YearsCode               87938 non-null  object \n",
      " 14  Age1stCode              87634 non-null  object \n",
      " 15  YearsCodePro            74331 non-null  object \n",
      " 16  CareerSat               72847 non-null  object \n",
      " 17  JobSat                  70988 non-null  object \n",
      " 18  MgrIdiot                61159 non-null  object \n",
      " 19  MgrMoney                61157 non-null  object \n",
      " 20  MgrWant                 61232 non-null  object \n",
      " 21  JobSeek                 80555 non-null  object \n",
      " 22  LastHireDate            79854 non-null  object \n",
      " 23  LastInt                 67155 non-null  object \n",
      " 24  FizzBuzz                71344 non-null  object \n",
      " 25  JobFactors              79371 non-null  object \n",
      " 26  ResumeUpdate            77877 non-null  object \n",
      " 27  CurrencySymbol          71392 non-null  object \n",
      " 28  CurrencyDesc            71392 non-null  object \n",
      " 29  CompTotal               55945 non-null  float64\n",
      " 30  CompFreq                63268 non-null  object \n",
      " 31  ConvertedComp           55823 non-null  float64\n",
      " 32  WorkWeekHrs             64503 non-null  float64\n",
      " 33  WorkPlan                68914 non-null  object \n",
      " 34  WorkChallenge           68141 non-null  object \n",
      " 35  WorkRemote              70284 non-null  object \n",
      " 36  WorkLoc                 70055 non-null  object \n",
      " 37  ImpSyn                  71779 non-null  object \n",
      " 38  CodeRev                 70390 non-null  object \n",
      " 39  CodeRevHrs              49790 non-null  float64\n",
      " 40  UnitTests               62668 non-null  object \n",
      " 41  PurchaseHow             61108 non-null  object \n",
      " 42  PurchaseWhat            62029 non-null  object \n",
      " 43  LanguageWorkedWith      87569 non-null  object \n",
      " 44  LanguageDesireNextYear  84088 non-null  object \n",
      " 45  DatabaseWorkedWith      76026 non-null  object \n",
      " 46  DatabaseDesireNextYear  69147 non-null  object \n",
      " 47  PlatformWorkedWith      80714 non-null  object \n",
      " 48  PlatformDesireNextYear  77443 non-null  object \n",
      " 49  WebFrameWorkedWith      65022 non-null  object \n",
      " 50  WebFrameDesireNextYear  62944 non-null  object \n",
      " 51  MiscTechWorkedWith      59586 non-null  object \n",
      " 52  MiscTechDesireNextYear  64511 non-null  object \n",
      " 53  DevEnviron              87317 non-null  object \n",
      " 54  OpSys                   87851 non-null  object \n",
      " 55  Containers              85366 non-null  object \n",
      " 56  BlockchainOrg           48175 non-null  object \n",
      " 57  BlockchainIs            60165 non-null  object \n",
      " 58  BetterLife              86269 non-null  object \n",
      " 59  ITperson                87141 non-null  object \n",
      " 60  OffOn                   86663 non-null  object \n",
      " 61  SocialMedia             84437 non-null  object \n",
      " 62  Extraversion            87305 non-null  object \n",
      " 63  ScreenName              80486 non-null  object \n",
      " 64  SOVisit1st              83877 non-null  object \n",
      " 65  SOVisitFreq             88263 non-null  object \n",
      " 66  SOVisitTo               88086 non-null  object \n",
      " 67  SOFindAnswer            87816 non-null  object \n",
      " 68  SOTimeSaved             86344 non-null  object \n",
      " 69  SOHowMuchTime           68378 non-null  object \n",
      " 70  SOAccount               87828 non-null  object \n",
      " 71  SOPartFreq              74692 non-null  object \n",
      " 72  SOJobs                  88066 non-null  object \n",
      " 73  EntTeams                87841 non-null  object \n",
      " 74  SOComm                  88131 non-null  object \n",
      " 75  WelcomeChange           85855 non-null  object \n",
      " 76  SONewContent            69560 non-null  object \n",
      " 77  Age                     79210 non-null  float64\n",
      " 78  Gender                  85406 non-null  object \n",
      " 79  Trans                   83607 non-null  object \n",
      " 80  Sexuality               76147 non-null  object \n",
      " 81  Ethnicity               76668 non-null  object \n",
      " 82  Dependents              83059 non-null  object \n",
      " 83  SurveyLength            86984 non-null  object \n",
      " 84  SurveyEase              87081 non-null  object \n",
      "dtypes: float64(5), int64(1), object(79)\n",
      "memory usage: 57.6+ MB\n"
     ]
    }
   ],
   "source": [
    "# cette enquête est composée de 85 questions et s'adresse à 88883 personnes\n",
    "enquete.info()"
   ]
  },
  {
   "cell_type": "markdown",
   "metadata": {},
   "source": [
    "## Statitiques de base\n",
    "\n",
    "On veut calculer des statistiques de bases"
   ]
  },
  {
   "cell_type": "code",
   "execution_count": 64,
   "metadata": {},
   "outputs": [
    {
     "name": "stdout",
     "output_type": "stream",
     "text": [
      "42.12719740950035\n"
     ]
    }
   ],
   "source": [
    "# calculer la moyenne du nombre d'heures travaillées\n",
    "print(enquete[\"WorkWeekHrs\"].mean())\n",
    "#print(np.mean(enquete[\"WorkWeekHrs\"]))"
   ]
  },
  {
   "cell_type": "code",
   "execution_count": 65,
   "metadata": {},
   "outputs": [
    {
     "name": "stdout",
     "output_type": "stream",
     "text": [
      "moyenne de la colonne Respondent : 44442.0\n",
      "moyenne de la colonne CompTotal : 551901414118.7615\n",
      "moyenne de la colonne ConvertedComp : 127110.73842323056\n",
      "moyenne de la colonne WorkWeekHrs : 42.12719740950035\n",
      "moyenne de la colonne CodeRevHrs : 5.084307692307696\n",
      "moyenne de la colonne Age : 30.336698649160446\n"
     ]
    }
   ],
   "source": [
    "# si on veut automatiser le calcul, on peut utiliser :\n",
    "for col in enquete.select_dtypes(np.number).columns:\n",
    "    print(\"moyenne de la colonne {} :\".format(col),enquete[col].mean())"
   ]
  },
  {
   "cell_type": "code",
   "execution_count": 66,
   "metadata": {},
   "outputs": [
    {
     "data": {
      "text/plain": [
       "Respondent       4.444200e+04\n",
       "CompTotal        5.519014e+11\n",
       "ConvertedComp    1.271107e+05\n",
       "WorkWeekHrs      4.212720e+01\n",
       "CodeRevHrs       5.084308e+00\n",
       "Age              3.033670e+01\n",
       "dtype: float64"
      ]
     },
     "execution_count": 66,
     "metadata": {},
     "output_type": "execute_result"
    }
   ],
   "source": [
    "# ou\n",
    "enquete.select_dtypes(np.number).mean()"
   ]
  },
  {
   "cell_type": "code",
   "execution_count": 67,
   "metadata": {},
   "outputs": [
    {
     "data": {
      "text/plain": [
       "count    64503.000000\n",
       "mean        42.127197\n",
       "std         37.287610\n",
       "min          1.000000\n",
       "25%         40.000000\n",
       "50%         40.000000\n",
       "75%         44.750000\n",
       "max       4850.000000\n",
       "Name: WorkWeekHrs, dtype: float64"
      ]
     },
     "execution_count": 67,
     "metadata": {},
     "output_type": "execute_result"
    }
   ],
   "source": [
    "# si on veut une description d'une colonne, on utilise :\n",
    "enquete[\"WorkWeekHrs\"].describe()"
   ]
  },
  {
   "cell_type": "code",
   "execution_count": 68,
   "metadata": {
    "scrolled": true
   },
   "outputs": [
    {
     "data": {
      "text/plain": [
       "United States                       20949\n",
       "India                                9061\n",
       "Germany                              5866\n",
       "United Kingdom                       5737\n",
       "Canada                               3395\n",
       "                                    ...  \n",
       "North Korea                             1\n",
       "Tonga                                   1\n",
       "Sao Tome and Principe                   1\n",
       "Saint Vincent and the Grenadines        1\n",
       "Chad                                    1\n",
       "Name: Country, Length: 179, dtype: int64"
      ]
     },
     "execution_count": 68,
     "metadata": {},
     "output_type": "execute_result"
    }
   ],
   "source": [
    "# si on voir la nombre de réopndant par pays, on peut utiliser :\n",
    "enquete[\"Country\"].value_counts()"
   ]
  },
  {
   "cell_type": "markdown",
   "metadata": {},
   "source": [
    "## Traitement des données manquantes"
   ]
  },
  {
   "cell_type": "code",
   "execution_count": 69,
   "metadata": {},
   "outputs": [],
   "source": [
    "# completion par la médiane\n",
    "enquete[\"WorkWeekHrs_compl\"] = enquete[\"WorkWeekHrs\"].fillna(enquete[\"WorkWeekHrs\"].median())"
   ]
  },
  {
   "cell_type": "code",
   "execution_count": 70,
   "metadata": {},
   "outputs": [
    {
     "data": {
      "text/html": [
       "<div>\n",
       "<style scoped>\n",
       "    .dataframe tbody tr th:only-of-type {\n",
       "        vertical-align: middle;\n",
       "    }\n",
       "\n",
       "    .dataframe tbody tr th {\n",
       "        vertical-align: top;\n",
       "    }\n",
       "\n",
       "    .dataframe thead th {\n",
       "        text-align: right;\n",
       "    }\n",
       "</style>\n",
       "<table border=\"1\" class=\"dataframe\">\n",
       "  <thead>\n",
       "    <tr style=\"text-align: right;\">\n",
       "      <th></th>\n",
       "      <th>WorkWeekHrs_compl</th>\n",
       "      <th>WorkWeekHrs</th>\n",
       "      <th>CodeRevHrs</th>\n",
       "    </tr>\n",
       "  </thead>\n",
       "  <tbody>\n",
       "    <tr>\n",
       "      <th>count</th>\n",
       "      <td>88883.000000</td>\n",
       "      <td>64503.000000</td>\n",
       "      <td>49790.000000</td>\n",
       "    </tr>\n",
       "    <tr>\n",
       "      <th>mean</th>\n",
       "      <td>41.543722</td>\n",
       "      <td>42.127197</td>\n",
       "      <td>5.084308</td>\n",
       "    </tr>\n",
       "    <tr>\n",
       "      <th>std</th>\n",
       "      <td>31.778837</td>\n",
       "      <td>37.287610</td>\n",
       "      <td>5.513931</td>\n",
       "    </tr>\n",
       "    <tr>\n",
       "      <th>min</th>\n",
       "      <td>1.000000</td>\n",
       "      <td>1.000000</td>\n",
       "      <td>0.000000</td>\n",
       "    </tr>\n",
       "    <tr>\n",
       "      <th>25%</th>\n",
       "      <td>40.000000</td>\n",
       "      <td>40.000000</td>\n",
       "      <td>2.000000</td>\n",
       "    </tr>\n",
       "    <tr>\n",
       "      <th>50%</th>\n",
       "      <td>40.000000</td>\n",
       "      <td>40.000000</td>\n",
       "      <td>4.000000</td>\n",
       "    </tr>\n",
       "    <tr>\n",
       "      <th>75%</th>\n",
       "      <td>40.000000</td>\n",
       "      <td>44.750000</td>\n",
       "      <td>6.000000</td>\n",
       "    </tr>\n",
       "    <tr>\n",
       "      <th>max</th>\n",
       "      <td>4850.000000</td>\n",
       "      <td>4850.000000</td>\n",
       "      <td>99.000000</td>\n",
       "    </tr>\n",
       "  </tbody>\n",
       "</table>\n",
       "</div>"
      ],
      "text/plain": [
       "       WorkWeekHrs_compl   WorkWeekHrs    CodeRevHrs\n",
       "count       88883.000000  64503.000000  49790.000000\n",
       "mean           41.543722     42.127197      5.084308\n",
       "std            31.778837     37.287610      5.513931\n",
       "min             1.000000      1.000000      0.000000\n",
       "25%            40.000000     40.000000      2.000000\n",
       "50%            40.000000     40.000000      4.000000\n",
       "75%            40.000000     44.750000      6.000000\n",
       "max          4850.000000   4850.000000     99.000000"
      ]
     },
     "execution_count": 70,
     "metadata": {},
     "output_type": "execute_result"
    }
   ],
   "source": [
    "enquete[ [\"WorkWeekHrs_compl\",\"WorkWeekHrs\",\"CodeRevHrs\"] ].describe()"
   ]
  },
  {
   "cell_type": "markdown",
   "metadata": {},
   "source": [
    "## Plus de statistiques\n",
    "\n",
    "On peut créer des fonctions sur mesure pour calculer des statistiques"
   ]
  },
  {
   "cell_type": "code",
   "execution_count": 71,
   "metadata": {},
   "outputs": [],
   "source": [
    "def etendue(x):\n",
    "    \"\"\" calcul l'étendue des données pour une colonne d'un DataFrame\"\"\"\n",
    "    return x.max()-x.min()"
   ]
  },
  {
   "cell_type": "code",
   "execution_count": 72,
   "metadata": {},
   "outputs": [],
   "source": [
    "sous_enquente = enquete[ [\"WorkWeekHrs_compl\",\"WorkWeekHrs\",\"CodeRevHrs\"] ]"
   ]
  },
  {
   "cell_type": "code",
   "execution_count": 73,
   "metadata": {
    "scrolled": true
   },
   "outputs": [
    {
     "data": {
      "text/html": [
       "<div>\n",
       "<style scoped>\n",
       "    .dataframe tbody tr th:only-of-type {\n",
       "        vertical-align: middle;\n",
       "    }\n",
       "\n",
       "    .dataframe tbody tr th {\n",
       "        vertical-align: top;\n",
       "    }\n",
       "\n",
       "    .dataframe thead th {\n",
       "        text-align: right;\n",
       "    }\n",
       "</style>\n",
       "<table border=\"1\" class=\"dataframe\">\n",
       "  <thead>\n",
       "    <tr style=\"text-align: right;\">\n",
       "      <th></th>\n",
       "      <th>WorkWeekHrs_compl</th>\n",
       "      <th>WorkWeekHrs</th>\n",
       "      <th>CodeRevHrs</th>\n",
       "    </tr>\n",
       "  </thead>\n",
       "  <tbody>\n",
       "    <tr>\n",
       "      <th>mean</th>\n",
       "      <td>41.543722</td>\n",
       "      <td>42.127197</td>\n",
       "      <td>5.084308</td>\n",
       "    </tr>\n",
       "    <tr>\n",
       "      <th>median</th>\n",
       "      <td>40.000000</td>\n",
       "      <td>40.000000</td>\n",
       "      <td>4.000000</td>\n",
       "    </tr>\n",
       "    <tr>\n",
       "      <th>std</th>\n",
       "      <td>31.778837</td>\n",
       "      <td>37.287610</td>\n",
       "      <td>5.513931</td>\n",
       "    </tr>\n",
       "    <tr>\n",
       "      <th>etendue</th>\n",
       "      <td>4849.000000</td>\n",
       "      <td>4849.000000</td>\n",
       "      <td>99.000000</td>\n",
       "    </tr>\n",
       "  </tbody>\n",
       "</table>\n",
       "</div>"
      ],
      "text/plain": [
       "         WorkWeekHrs_compl  WorkWeekHrs  CodeRevHrs\n",
       "mean             41.543722    42.127197    5.084308\n",
       "median           40.000000    40.000000    4.000000\n",
       "std              31.778837    37.287610    5.513931\n",
       "etendue        4849.000000  4849.000000   99.000000"
      ]
     },
     "execution_count": 73,
     "metadata": {},
     "output_type": "execute_result"
    }
   ],
   "source": [
    "sous_enquente.agg([\"mean\",\"median\",\"std\",etendue])"
   ]
  },
  {
   "cell_type": "markdown",
   "metadata": {},
   "source": [
    "## Discrétisation des âges\n",
    "On transforme la colonne âge en classes d'âges"
   ]
  },
  {
   "cell_type": "code",
   "execution_count": 74,
   "metadata": {},
   "outputs": [],
   "source": [
    "enquete[\"Age_dic1\"] = pd.cut(enquete[\"Age\"],5)\n",
    "enquete[\"Age_disc2\"] = pd.cut(enquete[\"Age\"],[0,18,25,35,45,65,100])"
   ]
  },
  {
   "cell_type": "code",
   "execution_count": 75,
   "metadata": {},
   "outputs": [],
   "source": [
    "enquete[\"Age_disc3\"] = pd.qcut(enquete[\"Age\"],5)"
   ]
  },
  {
   "cell_type": "code",
   "execution_count": 76,
   "metadata": {
    "scrolled": true
   },
   "outputs": [
    {
     "data": {
      "text/plain": [
       "<matplotlib.axes._subplots.AxesSubplot at 0x28da4585d48>"
      ]
     },
     "execution_count": 76,
     "metadata": {},
     "output_type": "execute_result"
    },
    {
     "data": {
      "image/png": "[encoded data removed]",
      "text/plain": [
       "<Figure size 432x288 with 1 Axes>"
      ]
     },
     "metadata": {
      "needs_background": "light"
     },
     "output_type": "display_data"
    }
   ],
   "source": [
    "enquete[\"Age_disc2\"].value_counts(normalize=True).plot(kind=\"bar\")"
   ]
  },
  {
   "cell_type": "markdown",
   "metadata": {},
   "source": [
    "# Aller plus loin, comparer plusieurs colonnes"
   ]
  },
  {
   "cell_type": "code",
   "execution_count": 77,
   "metadata": {},
   "outputs": [],
   "source": [
    "mon_tableau_croise = enquete.pivot_table(values=\"WorkWeekHrs\",index = [\"Age_disc3\",'EdLevel'],columns='MgrIdiot',\n",
    "                    aggfunc=['count','mean'])"
   ]
  },
  {
   "cell_type": "code",
   "execution_count": 78,
   "metadata": {},
   "outputs": [
    {
     "data": {
      "text/html": [
       "<div>\n",
       "<style scoped>\n",
       "    .dataframe tbody tr th:only-of-type {\n",
       "        vertical-align: middle;\n",
       "    }\n",
       "\n",
       "    .dataframe tbody tr th {\n",
       "        vertical-align: top;\n",
       "    }\n",
       "\n",
       "    .dataframe thead tr th {\n",
       "        text-align: left;\n",
       "    }\n",
       "\n",
       "    .dataframe thead tr:last-of-type th {\n",
       "        text-align: right;\n",
       "    }\n",
       "</style>\n",
       "<table border=\"1\" class=\"dataframe\">\n",
       "  <thead>\n",
       "    <tr>\n",
       "      <th></th>\n",
       "      <th></th>\n",
       "      <th colspan=\"4\" halign=\"left\">count</th>\n",
       "      <th colspan=\"4\" halign=\"left\">mean</th>\n",
       "    </tr>\n",
       "    <tr>\n",
       "      <th></th>\n",
       "      <th>MgrIdiot</th>\n",
       "      <th>I don't have a manager</th>\n",
       "      <th>Not at all confident</th>\n",
       "      <th>Somewhat confident</th>\n",
       "      <th>Very confident</th>\n",
       "      <th>I don't have a manager</th>\n",
       "      <th>Not at all confident</th>\n",
       "      <th>Somewhat confident</th>\n",
       "      <th>Very confident</th>\n",
       "    </tr>\n",
       "    <tr>\n",
       "      <th>Age_disc3</th>\n",
       "      <th>EdLevel</th>\n",
       "      <th></th>\n",
       "      <th></th>\n",
       "      <th></th>\n",
       "      <th></th>\n",
       "      <th></th>\n",
       "      <th></th>\n",
       "      <th></th>\n",
       "      <th></th>\n",
       "    </tr>\n",
       "  </thead>\n",
       "  <tbody>\n",
       "    <tr>\n",
       "      <th rowspan=\"9\" valign=\"top\">(0.999, 23.0]</th>\n",
       "      <th>Associate degree</th>\n",
       "      <td>11.0</td>\n",
       "      <td>41.0</td>\n",
       "      <td>136.0</td>\n",
       "      <td>148.0</td>\n",
       "      <td>68.818182</td>\n",
       "      <td>39.000000</td>\n",
       "      <td>37.683824</td>\n",
       "      <td>36.000000</td>\n",
       "    </tr>\n",
       "    <tr>\n",
       "      <th>Bachelor’s degree (BA, BS, B.Eng., etc.)</th>\n",
       "      <td>104.0</td>\n",
       "      <td>403.0</td>\n",
       "      <td>1418.0</td>\n",
       "      <td>1548.0</td>\n",
       "      <td>35.312500</td>\n",
       "      <td>40.763027</td>\n",
       "      <td>39.163822</td>\n",
       "      <td>43.204780</td>\n",
       "    </tr>\n",
       "    <tr>\n",
       "      <th>I never completed any formal education</th>\n",
       "      <td>0.0</td>\n",
       "      <td>2.0</td>\n",
       "      <td>7.0</td>\n",
       "      <td>10.0</td>\n",
       "      <td>NaN</td>\n",
       "      <td>40.000000</td>\n",
       "      <td>40.428571</td>\n",
       "      <td>46.400000</td>\n",
       "    </tr>\n",
       "    <tr>\n",
       "      <th>Master’s degree (MA, MS, M.Eng., MBA, etc.)</th>\n",
       "      <td>11.0</td>\n",
       "      <td>41.0</td>\n",
       "      <td>112.0</td>\n",
       "      <td>178.0</td>\n",
       "      <td>38.272727</td>\n",
       "      <td>40.012195</td>\n",
       "      <td>38.687500</td>\n",
       "      <td>43.382135</td>\n",
       "    </tr>\n",
       "    <tr>\n",
       "      <th>Other doctoral degree (Ph.D, Ed.D., etc.)</th>\n",
       "      <td>1.0</td>\n",
       "      <td>NaN</td>\n",
       "      <td>2.0</td>\n",
       "      <td>3.0</td>\n",
       "      <td>40.000000</td>\n",
       "      <td>NaN</td>\n",
       "      <td>20.500003</td>\n",
       "      <td>45.000000</td>\n",
       "    </tr>\n",
       "    <tr>\n",
       "      <th>Primary/elementary school</th>\n",
       "      <td>6.0</td>\n",
       "      <td>7.0</td>\n",
       "      <td>29.0</td>\n",
       "      <td>41.0</td>\n",
       "      <td>41.666667</td>\n",
       "      <td>32.000000</td>\n",
       "      <td>50.189655</td>\n",
       "      <td>36.219512</td>\n",
       "    </tr>\n",
       "    <tr>\n",
       "      <th>Professional degree (JD, MD, etc.)</th>\n",
       "      <td>5.0</td>\n",
       "      <td>7.0</td>\n",
       "      <td>36.0</td>\n",
       "      <td>29.0</td>\n",
       "      <td>41.000000</td>\n",
       "      <td>35.071429</td>\n",
       "      <td>39.680556</td>\n",
       "      <td>37.051724</td>\n",
       "    </tr>\n",
       "    <tr>\n",
       "      <th>Secondary school (e.g. American high school, German Realschule or Gymnasium, etc.)</th>\n",
       "      <td>33.0</td>\n",
       "      <td>151.0</td>\n",
       "      <td>461.0</td>\n",
       "      <td>530.0</td>\n",
       "      <td>29.833333</td>\n",
       "      <td>42.809603</td>\n",
       "      <td>40.450651</td>\n",
       "      <td>35.934906</td>\n",
       "    </tr>\n",
       "    <tr>\n",
       "      <th>Some college/university study without earning a degree</th>\n",
       "      <td>31.0</td>\n",
       "      <td>140.0</td>\n",
       "      <td>414.0</td>\n",
       "      <td>484.0</td>\n",
       "      <td>50.532258</td>\n",
       "      <td>42.742857</td>\n",
       "      <td>38.028382</td>\n",
       "      <td>38.172521</td>\n",
       "    </tr>\n",
       "    <tr>\n",
       "      <th rowspan=\"9\" valign=\"top\">(23.0, 27.0]</th>\n",
       "      <th>Associate degree</th>\n",
       "      <td>13.0</td>\n",
       "      <td>50.0</td>\n",
       "      <td>163.0</td>\n",
       "      <td>159.0</td>\n",
       "      <td>40.461538</td>\n",
       "      <td>48.310000</td>\n",
       "      <td>39.754601</td>\n",
       "      <td>40.317610</td>\n",
       "    </tr>\n",
       "    <tr>\n",
       "      <th>Bachelor’s degree (BA, BS, B.Eng., etc.)</th>\n",
       "      <td>181.0</td>\n",
       "      <td>1214.0</td>\n",
       "      <td>3485.0</td>\n",
       "      <td>3468.0</td>\n",
       "      <td>39.464088</td>\n",
       "      <td>42.102759</td>\n",
       "      <td>40.954634</td>\n",
       "      <td>41.035741</td>\n",
       "    </tr>\n",
       "    <tr>\n",
       "      <th>I never completed any formal education</th>\n",
       "      <td>3.0</td>\n",
       "      <td>7.0</td>\n",
       "      <td>13.0</td>\n",
       "      <td>14.0</td>\n",
       "      <td>57.000000</td>\n",
       "      <td>42.500000</td>\n",
       "      <td>43.615385</td>\n",
       "      <td>37.142857</td>\n",
       "    </tr>\n",
       "    <tr>\n",
       "      <th>Master’s degree (MA, MS, M.Eng., MBA, etc.)</th>\n",
       "      <td>98.0</td>\n",
       "      <td>398.0</td>\n",
       "      <td>1196.0</td>\n",
       "      <td>1211.0</td>\n",
       "      <td>38.219388</td>\n",
       "      <td>41.881030</td>\n",
       "      <td>42.663629</td>\n",
       "      <td>42.614616</td>\n",
       "    </tr>\n",
       "    <tr>\n",
       "      <th>Other doctoral degree (Ph.D, Ed.D., etc.)</th>\n",
       "      <td>1.0</td>\n",
       "      <td>4.0</td>\n",
       "      <td>28.0</td>\n",
       "      <td>30.0</td>\n",
       "      <td>45.000000</td>\n",
       "      <td>40.000000</td>\n",
       "      <td>43.464286</td>\n",
       "      <td>41.533333</td>\n",
       "    </tr>\n",
       "    <tr>\n",
       "      <th>Primary/elementary school</th>\n",
       "      <td>1.0</td>\n",
       "      <td>5.0</td>\n",
       "      <td>10.0</td>\n",
       "      <td>12.0</td>\n",
       "      <td>5.000000</td>\n",
       "      <td>42.800000</td>\n",
       "      <td>42.600000</td>\n",
       "      <td>43.375000</td>\n",
       "    </tr>\n",
       "    <tr>\n",
       "      <th>Professional degree (JD, MD, etc.)</th>\n",
       "      <td>6.0</td>\n",
       "      <td>32.0</td>\n",
       "      <td>67.0</td>\n",
       "      <td>57.0</td>\n",
       "      <td>59.666667</td>\n",
       "      <td>38.156250</td>\n",
       "      <td>40.179104</td>\n",
       "      <td>39.254386</td>\n",
       "    </tr>\n",
       "    <tr>\n",
       "      <th>Secondary school (e.g. American high school, German Realschule or Gymnasium, etc.)</th>\n",
       "      <td>19.0</td>\n",
       "      <td>82.0</td>\n",
       "      <td>182.0</td>\n",
       "      <td>172.0</td>\n",
       "      <td>42.657895</td>\n",
       "      <td>39.146341</td>\n",
       "      <td>38.574176</td>\n",
       "      <td>43.023256</td>\n",
       "    </tr>\n",
       "    <tr>\n",
       "      <th>Some college/university study without earning a degree</th>\n",
       "      <td>29.0</td>\n",
       "      <td>197.0</td>\n",
       "      <td>487.0</td>\n",
       "      <td>444.0</td>\n",
       "      <td>37.517241</td>\n",
       "      <td>41.261421</td>\n",
       "      <td>41.041581</td>\n",
       "      <td>41.756982</td>\n",
       "    </tr>\n",
       "    <tr>\n",
       "      <th rowspan=\"9\" valign=\"top\">(27.0, 30.0]</th>\n",
       "      <th>Associate degree</th>\n",
       "      <td>6.0</td>\n",
       "      <td>56.0</td>\n",
       "      <td>111.0</td>\n",
       "      <td>110.0</td>\n",
       "      <td>49.166667</td>\n",
       "      <td>39.419643</td>\n",
       "      <td>40.364865</td>\n",
       "      <td>39.818182</td>\n",
       "    </tr>\n",
       "    <tr>\n",
       "      <th>Bachelor’s degree (BA, BS, B.Eng., etc.)</th>\n",
       "      <td>116.0</td>\n",
       "      <td>738.0</td>\n",
       "      <td>2027.0</td>\n",
       "      <td>1916.0</td>\n",
       "      <td>45.094828</td>\n",
       "      <td>42.328117</td>\n",
       "      <td>42.519882</td>\n",
       "      <td>42.568685</td>\n",
       "    </tr>\n",
       "    <tr>\n",
       "      <th>I never completed any formal education</th>\n",
       "      <td>2.0</td>\n",
       "      <td>5.0</td>\n",
       "      <td>12.0</td>\n",
       "      <td>12.0</td>\n",
       "      <td>45.000000</td>\n",
       "      <td>40.800000</td>\n",
       "      <td>42.500000</td>\n",
       "      <td>34.583333</td>\n",
       "    </tr>\n",
       "    <tr>\n",
       "      <th>Master’s degree (MA, MS, M.Eng., MBA, etc.)</th>\n",
       "      <td>88.0</td>\n",
       "      <td>447.0</td>\n",
       "      <td>1284.0</td>\n",
       "      <td>1057.0</td>\n",
       "      <td>44.920455</td>\n",
       "      <td>41.530761</td>\n",
       "      <td>41.973326</td>\n",
       "      <td>41.681646</td>\n",
       "    </tr>\n",
       "    <tr>\n",
       "      <th>Other doctoral degree (Ph.D, Ed.D., etc.)</th>\n",
       "      <td>11.0</td>\n",
       "      <td>30.0</td>\n",
       "      <td>75.0</td>\n",
       "      <td>92.0</td>\n",
       "      <td>46.636364</td>\n",
       "      <td>43.916667</td>\n",
       "      <td>43.073333</td>\n",
       "      <td>41.331522</td>\n",
       "    </tr>\n",
       "    <tr>\n",
       "      <th>Primary/elementary school</th>\n",
       "      <td>1.0</td>\n",
       "      <td>3.0</td>\n",
       "      <td>6.0</td>\n",
       "      <td>14.0</td>\n",
       "      <td>24.000000</td>\n",
       "      <td>33.333333</td>\n",
       "      <td>40.333333</td>\n",
       "      <td>75.678571</td>\n",
       "    </tr>\n",
       "    <tr>\n",
       "      <th>Professional degree (JD, MD, etc.)</th>\n",
       "      <td>3.0</td>\n",
       "      <td>31.0</td>\n",
       "      <td>50.0</td>\n",
       "      <td>38.0</td>\n",
       "      <td>44.333333</td>\n",
       "      <td>40.322581</td>\n",
       "      <td>39.840000</td>\n",
       "      <td>35.539474</td>\n",
       "    </tr>\n",
       "    <tr>\n",
       "      <th>Secondary school (e.g. American high school, German Realschule or Gymnasium, etc.)</th>\n",
       "      <td>14.0</td>\n",
       "      <td>57.0</td>\n",
       "      <td>98.0</td>\n",
       "      <td>100.0</td>\n",
       "      <td>39.857143</td>\n",
       "      <td>40.263158</td>\n",
       "      <td>45.989796</td>\n",
       "      <td>42.690000</td>\n",
       "    </tr>\n",
       "    <tr>\n",
       "      <th>Some college/university study without earning a degree</th>\n",
       "      <td>27.0</td>\n",
       "      <td>139.0</td>\n",
       "      <td>335.0</td>\n",
       "      <td>321.0</td>\n",
       "      <td>40.981481</td>\n",
       "      <td>42.906475</td>\n",
       "      <td>43.608955</td>\n",
       "      <td>42.892523</td>\n",
       "    </tr>\n",
       "    <tr>\n",
       "      <th rowspan=\"9\" valign=\"top\">(30.0, 37.0]</th>\n",
       "      <th>Associate degree</th>\n",
       "      <td>7.0</td>\n",
       "      <td>66.0</td>\n",
       "      <td>162.0</td>\n",
       "      <td>185.0</td>\n",
       "      <td>43.857143</td>\n",
       "      <td>42.045455</td>\n",
       "      <td>43.962963</td>\n",
       "      <td>40.818919</td>\n",
       "    </tr>\n",
       "    <tr>\n",
       "      <th>Bachelor’s degree (BA, BS, B.Eng., etc.)</th>\n",
       "      <td>159.0</td>\n",
       "      <td>899.0</td>\n",
       "      <td>2303.0</td>\n",
       "      <td>2137.0</td>\n",
       "      <td>43.044025</td>\n",
       "      <td>42.795050</td>\n",
       "      <td>44.753409</td>\n",
       "      <td>42.094806</td>\n",
       "    </tr>\n",
       "    <tr>\n",
       "      <th>I never completed any formal education</th>\n",
       "      <td>2.0</td>\n",
       "      <td>11.0</td>\n",
       "      <td>24.0</td>\n",
       "      <td>16.0</td>\n",
       "      <td>24.000000</td>\n",
       "      <td>41.000000</td>\n",
       "      <td>47.958333</td>\n",
       "      <td>44.593750</td>\n",
       "    </tr>\n",
       "    <tr>\n",
       "      <th>Master’s degree (MA, MS, M.Eng., MBA, etc.)</th>\n",
       "      <td>104.0</td>\n",
       "      <td>714.0</td>\n",
       "      <td>1684.0</td>\n",
       "      <td>1436.0</td>\n",
       "      <td>42.514423</td>\n",
       "      <td>43.407283</td>\n",
       "      <td>42.716657</td>\n",
       "      <td>42.035689</td>\n",
       "    </tr>\n",
       "    <tr>\n",
       "      <th>Other doctoral degree (Ph.D, Ed.D., etc.)</th>\n",
       "      <td>35.0</td>\n",
       "      <td>86.0</td>\n",
       "      <td>250.0</td>\n",
       "      <td>274.0</td>\n",
       "      <td>43.400000</td>\n",
       "      <td>43.226744</td>\n",
       "      <td>45.208000</td>\n",
       "      <td>41.492701</td>\n",
       "    </tr>\n",
       "    <tr>\n",
       "      <th>Primary/elementary school</th>\n",
       "      <td>3.0</td>\n",
       "      <td>8.0</td>\n",
       "      <td>19.0</td>\n",
       "      <td>21.0</td>\n",
       "      <td>41.666667</td>\n",
       "      <td>53.000000</td>\n",
       "      <td>41.447368</td>\n",
       "      <td>40.285714</td>\n",
       "    </tr>\n",
       "    <tr>\n",
       "      <th>Professional degree (JD, MD, etc.)</th>\n",
       "      <td>8.0</td>\n",
       "      <td>43.0</td>\n",
       "      <td>71.0</td>\n",
       "      <td>72.0</td>\n",
       "      <td>35.000000</td>\n",
       "      <td>45.395349</td>\n",
       "      <td>40.105634</td>\n",
       "      <td>43.236111</td>\n",
       "    </tr>\n",
       "    <tr>\n",
       "      <th>Secondary school (e.g. American high school, German Realschule or Gymnasium, etc.)</th>\n",
       "      <td>16.0</td>\n",
       "      <td>66.0</td>\n",
       "      <td>178.0</td>\n",
       "      <td>128.0</td>\n",
       "      <td>43.500000</td>\n",
       "      <td>40.719697</td>\n",
       "      <td>42.030899</td>\n",
       "      <td>40.003906</td>\n",
       "    </tr>\n",
       "    <tr>\n",
       "      <th>Some college/university study without earning a degree</th>\n",
       "      <td>47.0</td>\n",
       "      <td>248.0</td>\n",
       "      <td>528.0</td>\n",
       "      <td>524.0</td>\n",
       "      <td>42.446809</td>\n",
       "      <td>42.739919</td>\n",
       "      <td>41.922917</td>\n",
       "      <td>42.089695</td>\n",
       "    </tr>\n",
       "    <tr>\n",
       "      <th rowspan=\"9\" valign=\"top\">(37.0, 99.0]</th>\n",
       "      <th>Associate degree</th>\n",
       "      <td>11.0</td>\n",
       "      <td>57.0</td>\n",
       "      <td>106.0</td>\n",
       "      <td>134.0</td>\n",
       "      <td>38.363636</td>\n",
       "      <td>40.640351</td>\n",
       "      <td>54.594340</td>\n",
       "      <td>44.132463</td>\n",
       "    </tr>\n",
       "    <tr>\n",
       "      <th>Bachelor’s degree (BA, BS, B.Eng., etc.)</th>\n",
       "      <td>103.0</td>\n",
       "      <td>560.0</td>\n",
       "      <td>1421.0</td>\n",
       "      <td>1397.0</td>\n",
       "      <td>40.538835</td>\n",
       "      <td>42.089732</td>\n",
       "      <td>41.679099</td>\n",
       "      <td>42.145777</td>\n",
       "    </tr>\n",
       "    <tr>\n",
       "      <th>I never completed any formal education</th>\n",
       "      <td>5.0</td>\n",
       "      <td>7.0</td>\n",
       "      <td>15.0</td>\n",
       "      <td>10.0</td>\n",
       "      <td>42.200000</td>\n",
       "      <td>34.285714</td>\n",
       "      <td>38.766667</td>\n",
       "      <td>37.600000</td>\n",
       "    </tr>\n",
       "    <tr>\n",
       "      <th>Master’s degree (MA, MS, M.Eng., MBA, etc.)</th>\n",
       "      <td>85.0</td>\n",
       "      <td>426.0</td>\n",
       "      <td>1067.0</td>\n",
       "      <td>897.0</td>\n",
       "      <td>45.907059</td>\n",
       "      <td>52.164319</td>\n",
       "      <td>43.171040</td>\n",
       "      <td>42.495262</td>\n",
       "    </tr>\n",
       "    <tr>\n",
       "      <th>Other doctoral degree (Ph.D, Ed.D., etc.)</th>\n",
       "      <td>43.0</td>\n",
       "      <td>100.0</td>\n",
       "      <td>214.0</td>\n",
       "      <td>204.0</td>\n",
       "      <td>44.127907</td>\n",
       "      <td>43.765000</td>\n",
       "      <td>41.210280</td>\n",
       "      <td>42.899510</td>\n",
       "    </tr>\n",
       "    <tr>\n",
       "      <th>Primary/elementary school</th>\n",
       "      <td>0.0</td>\n",
       "      <td>6.0</td>\n",
       "      <td>12.0</td>\n",
       "      <td>7.0</td>\n",
       "      <td>NaN</td>\n",
       "      <td>40.916667</td>\n",
       "      <td>38.916667</td>\n",
       "      <td>43.714286</td>\n",
       "    </tr>\n",
       "    <tr>\n",
       "      <th>Professional degree (JD, MD, etc.)</th>\n",
       "      <td>9.0</td>\n",
       "      <td>16.0</td>\n",
       "      <td>52.0</td>\n",
       "      <td>47.0</td>\n",
       "      <td>44.777778</td>\n",
       "      <td>41.562500</td>\n",
       "      <td>41.442308</td>\n",
       "      <td>53.372340</td>\n",
       "    </tr>\n",
       "    <tr>\n",
       "      <th>Secondary school (e.g. American high school, German Realschule or Gymnasium, etc.)</th>\n",
       "      <td>14.0</td>\n",
       "      <td>64.0</td>\n",
       "      <td>135.0</td>\n",
       "      <td>111.0</td>\n",
       "      <td>43.785714</td>\n",
       "      <td>39.187500</td>\n",
       "      <td>43.729630</td>\n",
       "      <td>50.256757</td>\n",
       "    </tr>\n",
       "    <tr>\n",
       "      <th>Some college/university study without earning a degree</th>\n",
       "      <td>54.0</td>\n",
       "      <td>220.0</td>\n",
       "      <td>530.0</td>\n",
       "      <td>466.0</td>\n",
       "      <td>49.324074</td>\n",
       "      <td>41.645455</td>\n",
       "      <td>41.217075</td>\n",
       "      <td>43.658262</td>\n",
       "    </tr>\n",
       "  </tbody>\n",
       "</table>\n",
       "</div>"
      ],
      "text/plain": [
       "                                                                                  count  \\\n",
       "MgrIdiot                                                         I don't have a manager   \n",
       "Age_disc3     EdLevel                                                                     \n",
       "(0.999, 23.0] Associate degree                                                     11.0   \n",
       "              Bachelor’s degree (BA, BS, B.Eng., etc.)                            104.0   \n",
       "              I never completed any formal education                                0.0   \n",
       "              Master’s degree (MA, MS, M.Eng., MBA, etc.)                          11.0   \n",
       "              Other doctoral degree (Ph.D, Ed.D., etc.)                             1.0   \n",
       "              Primary/elementary school                                             6.0   \n",
       "              Professional degree (JD, MD, etc.)                                    5.0   \n",
       "              Secondary school (e.g. American high school, Ge...                   33.0   \n",
       "              Some college/university study without earning a...                   31.0   \n",
       "(23.0, 27.0]  Associate degree                                                     13.0   \n",
       "              Bachelor’s degree (BA, BS, B.Eng., etc.)                            181.0   \n",
       "              I never completed any formal education                                3.0   \n",
       "              Master’s degree (MA, MS, M.Eng., MBA, etc.)                          98.0   \n",
       "              Other doctoral degree (Ph.D, Ed.D., etc.)                             1.0   \n",
       "              Primary/elementary school                                             1.0   \n",
       "              Professional degree (JD, MD, etc.)                                    6.0   \n",
       "              Secondary school (e.g. American high school, Ge...                   19.0   \n",
       "              Some college/university study without earning a...                   29.0   \n",
       "(27.0, 30.0]  Associate degree                                                      6.0   \n",
       "              Bachelor’s degree (BA, BS, B.Eng., etc.)                            116.0   \n",
       "              I never completed any formal education                                2.0   \n",
       "              Master’s degree (MA, MS, M.Eng., MBA, etc.)                          88.0   \n",
       "              Other doctoral degree (Ph.D, Ed.D., etc.)                            11.0   \n",
       "              Primary/elementary school                                             1.0   \n",
       "              Professional degree (JD, MD, etc.)                                    3.0   \n",
       "              Secondary school (e.g. American high school, Ge...                   14.0   \n",
       "              Some college/university study without earning a...                   27.0   \n",
       "(30.0, 37.0]  Associate degree                                                      7.0   \n",
       "              Bachelor’s degree (BA, BS, B.Eng., etc.)                            159.0   \n",
       "              I never completed any formal education                                2.0   \n",
       "              Master’s degree (MA, MS, M.Eng., MBA, etc.)                         104.0   \n",
       "              Other doctoral degree (Ph.D, Ed.D., etc.)                            35.0   \n",
       "              Primary/elementary school                                             3.0   \n",
       "              Professional degree (JD, MD, etc.)                                    8.0   \n",
       "              Secondary school (e.g. American high school, Ge...                   16.0   \n",
       "              Some college/university study without earning a...                   47.0   \n",
       "(37.0, 99.0]  Associate degree                                                     11.0   \n",
       "              Bachelor’s degree (BA, BS, B.Eng., etc.)                            103.0   \n",
       "              I never completed any formal education                                5.0   \n",
       "              Master’s degree (MA, MS, M.Eng., MBA, etc.)                          85.0   \n",
       "              Other doctoral degree (Ph.D, Ed.D., etc.)                            43.0   \n",
       "              Primary/elementary school                                             0.0   \n",
       "              Professional degree (JD, MD, etc.)                                    9.0   \n",
       "              Secondary school (e.g. American high school, Ge...                   14.0   \n",
       "              Some college/university study without earning a...                   54.0   \n",
       "\n",
       "                                                                                       \\\n",
       "MgrIdiot                                                         Not at all confident   \n",
       "Age_disc3     EdLevel                                                                   \n",
       "(0.999, 23.0] Associate degree                                                   41.0   \n",
       "              Bachelor’s degree (BA, BS, B.Eng., etc.)                          403.0   \n",
       "              I never completed any formal education                              2.0   \n",
       "              Master’s degree (MA, MS, M.Eng., MBA, etc.)                        41.0   \n",
       "              Other doctoral degree (Ph.D, Ed.D., etc.)                           NaN   \n",
       "              Primary/elementary school                                           7.0   \n",
       "              Professional degree (JD, MD, etc.)                                  7.0   \n",
       "              Secondary school (e.g. American high school, Ge...                151.0   \n",
       "              Some college/university study without earning a...                140.0   \n",
       "(23.0, 27.0]  Associate degree                                                   50.0   \n",
       "              Bachelor’s degree (BA, BS, B.Eng., etc.)                         1214.0   \n",
       "              I never completed any formal education                              7.0   \n",
       "              Master’s degree (MA, MS, M.Eng., MBA, etc.)                       398.0   \n",
       "              Other doctoral degree (Ph.D, Ed.D., etc.)                           4.0   \n",
       "              Primary/elementary school                                           5.0   \n",
       "              Professional degree (JD, MD, etc.)                                 32.0   \n",
       "              Secondary school (e.g. American high school, Ge...                 82.0   \n",
       "              Some college/university study without earning a...                197.0   \n",
       "(27.0, 30.0]  Associate degree                                                   56.0   \n",
       "              Bachelor’s degree (BA, BS, B.Eng., etc.)                          738.0   \n",
       "              I never completed any formal education                              5.0   \n",
       "              Master’s degree (MA, MS, M.Eng., MBA, etc.)                       447.0   \n",
       "              Other doctoral degree (Ph.D, Ed.D., etc.)                          30.0   \n",
       "              Primary/elementary school                                           3.0   \n",
       "              Professional degree (JD, MD, etc.)                                 31.0   \n",
       "              Secondary school (e.g. American high school, Ge...                 57.0   \n",
       "              Some college/university study without earning a...                139.0   \n",
       "(30.0, 37.0]  Associate degree                                                   66.0   \n",
       "              Bachelor’s degree (BA, BS, B.Eng., etc.)                          899.0   \n",
       "              I never completed any formal education                             11.0   \n",
       "              Master’s degree (MA, MS, M.Eng., MBA, etc.)                       714.0   \n",
       "              Other doctoral degree (Ph.D, Ed.D., etc.)                          86.0   \n",
       "              Primary/elementary school                                           8.0   \n",
       "              Professional degree (JD, MD, etc.)                                 43.0   \n",
       "              Secondary school (e.g. American high school, Ge...                 66.0   \n",
       "              Some college/university study without earning a...                248.0   \n",
       "(37.0, 99.0]  Associate degree                                                   57.0   \n",
       "              Bachelor’s degree (BA, BS, B.Eng., etc.)                          560.0   \n",
       "              I never completed any formal education                              7.0   \n",
       "              Master’s degree (MA, MS, M.Eng., MBA, etc.)                       426.0   \n",
       "              Other doctoral degree (Ph.D, Ed.D., etc.)                         100.0   \n",
       "              Primary/elementary school                                           6.0   \n",
       "              Professional degree (JD, MD, etc.)                                 16.0   \n",
       "              Secondary school (e.g. American high school, Ge...                 64.0   \n",
       "              Some college/university study without earning a...                220.0   \n",
       "\n",
       "                                                                                     \\\n",
       "MgrIdiot                                                         Somewhat confident   \n",
       "Age_disc3     EdLevel                                                                 \n",
       "(0.999, 23.0] Associate degree                                                136.0   \n",
       "              Bachelor’s degree (BA, BS, B.Eng., etc.)                       1418.0   \n",
       "              I never completed any formal education                            7.0   \n",
       "              Master’s degree (MA, MS, M.Eng., MBA, etc.)                     112.0   \n",
       "              Other doctoral degree (Ph.D, Ed.D., etc.)                         2.0   \n",
       "              Primary/elementary school                                        29.0   \n",
       "              Professional degree (JD, MD, etc.)                               36.0   \n",
       "              Secondary school (e.g. American high school, Ge...              461.0   \n",
       "              Some college/university study without earning a...              414.0   \n",
       "(23.0, 27.0]  Associate degree                                                163.0   \n",
       "              Bachelor’s degree (BA, BS, B.Eng., etc.)                       3485.0   \n",
       "              I never completed any formal education                           13.0   \n",
       "              Master’s degree (MA, MS, M.Eng., MBA, etc.)                    1196.0   \n",
       "              Other doctoral degree (Ph.D, Ed.D., etc.)                        28.0   \n",
       "              Primary/elementary school                                        10.0   \n",
       "              Professional degree (JD, MD, etc.)                               67.0   \n",
       "              Secondary school (e.g. American high school, Ge...              182.0   \n",
       "              Some college/university study without earning a...              487.0   \n",
       "(27.0, 30.0]  Associate degree                                                111.0   \n",
       "              Bachelor’s degree (BA, BS, B.Eng., etc.)                       2027.0   \n",
       "              I never completed any formal education                           12.0   \n",
       "              Master’s degree (MA, MS, M.Eng., MBA, etc.)                    1284.0   \n",
       "              Other doctoral degree (Ph.D, Ed.D., etc.)                        75.0   \n",
       "              Primary/elementary school                                         6.0   \n",
       "              Professional degree (JD, MD, etc.)                               50.0   \n",
       "              Secondary school (e.g. American high school, Ge...               98.0   \n",
       "              Some college/university study without earning a...              335.0   \n",
       "(30.0, 37.0]  Associate degree                                                162.0   \n",
       "              Bachelor’s degree (BA, BS, B.Eng., etc.)                       2303.0   \n",
       "              I never completed any formal education                           24.0   \n",
       "              Master’s degree (MA, MS, M.Eng., MBA, etc.)                    1684.0   \n",
       "              Other doctoral degree (Ph.D, Ed.D., etc.)                       250.0   \n",
       "              Primary/elementary school                                        19.0   \n",
       "              Professional degree (JD, MD, etc.)                               71.0   \n",
       "              Secondary school (e.g. American high school, Ge...              178.0   \n",
       "              Some college/university study without earning a...              528.0   \n",
       "(37.0, 99.0]  Associate degree                                                106.0   \n",
       "              Bachelor’s degree (BA, BS, B.Eng., etc.)                       1421.0   \n",
       "              I never completed any formal education                           15.0   \n",
       "              Master’s degree (MA, MS, M.Eng., MBA, etc.)                    1067.0   \n",
       "              Other doctoral degree (Ph.D, Ed.D., etc.)                       214.0   \n",
       "              Primary/elementary school                                        12.0   \n",
       "              Professional degree (JD, MD, etc.)                               52.0   \n",
       "              Secondary school (e.g. American high school, Ge...              135.0   \n",
       "              Some college/university study without earning a...              530.0   \n",
       "\n",
       "                                                                                 \\\n",
       "MgrIdiot                                                         Very confident   \n",
       "Age_disc3     EdLevel                                                             \n",
       "(0.999, 23.0] Associate degree                                            148.0   \n",
       "              Bachelor’s degree (BA, BS, B.Eng., etc.)                   1548.0   \n",
       "              I never completed any formal education                       10.0   \n",
       "              Master’s degree (MA, MS, M.Eng., MBA, etc.)                 178.0   \n",
       "              Other doctoral degree (Ph.D, Ed.D., etc.)                     3.0   \n",
       "              Primary/elementary school                                    41.0   \n",
       "              Professional degree (JD, MD, etc.)                           29.0   \n",
       "              Secondary school (e.g. American high school, Ge...          530.0   \n",
       "              Some college/university study without earning a...          484.0   \n",
       "(23.0, 27.0]  Associate degree                                            159.0   \n",
       "              Bachelor’s degree (BA, BS, B.Eng., etc.)                   3468.0   \n",
       "              I never completed any formal education                       14.0   \n",
       "              Master’s degree (MA, MS, M.Eng., MBA, etc.)                1211.0   \n",
       "              Other doctoral degree (Ph.D, Ed.D., etc.)                    30.0   \n",
       "              Primary/elementary school                                    12.0   \n",
       "              Professional degree (JD, MD, etc.)                           57.0   \n",
       "              Secondary school (e.g. American high school, Ge...          172.0   \n",
       "              Some college/university study without earning a...          444.0   \n",
       "(27.0, 30.0]  Associate degree                                            110.0   \n",
       "              Bachelor’s degree (BA, BS, B.Eng., etc.)                   1916.0   \n",
       "              I never completed any formal education                       12.0   \n",
       "              Master’s degree (MA, MS, M.Eng., MBA, etc.)                1057.0   \n",
       "              Other doctoral degree (Ph.D, Ed.D., etc.)                    92.0   \n",
       "              Primary/elementary school                                    14.0   \n",
       "              Professional degree (JD, MD, etc.)                           38.0   \n",
       "              Secondary school (e.g. American high school, Ge...          100.0   \n",
       "              Some college/university study without earning a...          321.0   \n",
       "(30.0, 37.0]  Associate degree                                            185.0   \n",
       "              Bachelor’s degree (BA, BS, B.Eng., etc.)                   2137.0   \n",
       "              I never completed any formal education                       16.0   \n",
       "              Master’s degree (MA, MS, M.Eng., MBA, etc.)                1436.0   \n",
       "              Other doctoral degree (Ph.D, Ed.D., etc.)                   274.0   \n",
       "              Primary/elementary school                                    21.0   \n",
       "              Professional degree (JD, MD, etc.)                           72.0   \n",
       "              Secondary school (e.g. American high school, Ge...          128.0   \n",
       "              Some college/university study without earning a...          524.0   \n",
       "(37.0, 99.0]  Associate degree                                            134.0   \n",
       "              Bachelor’s degree (BA, BS, B.Eng., etc.)                   1397.0   \n",
       "              I never completed any formal education                       10.0   \n",
       "              Master’s degree (MA, MS, M.Eng., MBA, etc.)                 897.0   \n",
       "              Other doctoral degree (Ph.D, Ed.D., etc.)                   204.0   \n",
       "              Primary/elementary school                                     7.0   \n",
       "              Professional degree (JD, MD, etc.)                           47.0   \n",
       "              Secondary school (e.g. American high school, Ge...          111.0   \n",
       "              Some college/university study without earning a...          466.0   \n",
       "\n",
       "                                                                                   mean  \\\n",
       "MgrIdiot                                                         I don't have a manager   \n",
       "Age_disc3     EdLevel                                                                     \n",
       "(0.999, 23.0] Associate degree                                                68.818182   \n",
       "              Bachelor’s degree (BA, BS, B.Eng., etc.)                        35.312500   \n",
       "              I never completed any formal education                                NaN   \n",
       "              Master’s degree (MA, MS, M.Eng., MBA, etc.)                     38.272727   \n",
       "              Other doctoral degree (Ph.D, Ed.D., etc.)                       40.000000   \n",
       "              Primary/elementary school                                       41.666667   \n",
       "              Professional degree (JD, MD, etc.)                              41.000000   \n",
       "              Secondary school (e.g. American high school, Ge...              29.833333   \n",
       "              Some college/university study without earning a...              50.532258   \n",
       "(23.0, 27.0]  Associate degree                                                40.461538   \n",
       "              Bachelor’s degree (BA, BS, B.Eng., etc.)                        39.464088   \n",
       "              I never completed any formal education                          57.000000   \n",
       "              Master’s degree (MA, MS, M.Eng., MBA, etc.)                     38.219388   \n",
       "              Other doctoral degree (Ph.D, Ed.D., etc.)                       45.000000   \n",
       "              Primary/elementary school                                        5.000000   \n",
       "              Professional degree (JD, MD, etc.)                              59.666667   \n",
       "              Secondary school (e.g. American high school, Ge...              42.657895   \n",
       "              Some college/university study without earning a...              37.517241   \n",
       "(27.0, 30.0]  Associate degree                                                49.166667   \n",
       "              Bachelor’s degree (BA, BS, B.Eng., etc.)                        45.094828   \n",
       "              I never completed any formal education                          45.000000   \n",
       "              Master’s degree (MA, MS, M.Eng., MBA, etc.)                     44.920455   \n",
       "              Other doctoral degree (Ph.D, Ed.D., etc.)                       46.636364   \n",
       "              Primary/elementary school                                       24.000000   \n",
       "              Professional degree (JD, MD, etc.)                              44.333333   \n",
       "              Secondary school (e.g. American high school, Ge...              39.857143   \n",
       "              Some college/university study without earning a...              40.981481   \n",
       "(30.0, 37.0]  Associate degree                                                43.857143   \n",
       "              Bachelor’s degree (BA, BS, B.Eng., etc.)                        43.044025   \n",
       "              I never completed any formal education                          24.000000   \n",
       "              Master’s degree (MA, MS, M.Eng., MBA, etc.)                     42.514423   \n",
       "              Other doctoral degree (Ph.D, Ed.D., etc.)                       43.400000   \n",
       "              Primary/elementary school                                       41.666667   \n",
       "              Professional degree (JD, MD, etc.)                              35.000000   \n",
       "              Secondary school (e.g. American high school, Ge...              43.500000   \n",
       "              Some college/university study without earning a...              42.446809   \n",
       "(37.0, 99.0]  Associate degree                                                38.363636   \n",
       "              Bachelor’s degree (BA, BS, B.Eng., etc.)                        40.538835   \n",
       "              I never completed any formal education                          42.200000   \n",
       "              Master’s degree (MA, MS, M.Eng., MBA, etc.)                     45.907059   \n",
       "              Other doctoral degree (Ph.D, Ed.D., etc.)                       44.127907   \n",
       "              Primary/elementary school                                             NaN   \n",
       "              Professional degree (JD, MD, etc.)                              44.777778   \n",
       "              Secondary school (e.g. American high school, Ge...              43.785714   \n",
       "              Some college/university study without earning a...              49.324074   \n",
       "\n",
       "                                                                                       \\\n",
       "MgrIdiot                                                         Not at all confident   \n",
       "Age_disc3     EdLevel                                                                   \n",
       "(0.999, 23.0] Associate degree                                              39.000000   \n",
       "              Bachelor’s degree (BA, BS, B.Eng., etc.)                      40.763027   \n",
       "              I never completed any formal education                        40.000000   \n",
       "              Master’s degree (MA, MS, M.Eng., MBA, etc.)                   40.012195   \n",
       "              Other doctoral degree (Ph.D, Ed.D., etc.)                           NaN   \n",
       "              Primary/elementary school                                     32.000000   \n",
       "              Professional degree (JD, MD, etc.)                            35.071429   \n",
       "              Secondary school (e.g. American high school, Ge...            42.809603   \n",
       "              Some college/university study without earning a...            42.742857   \n",
       "(23.0, 27.0]  Associate degree                                              48.310000   \n",
       "              Bachelor’s degree (BA, BS, B.Eng., etc.)                      42.102759   \n",
       "              I never completed any formal education                        42.500000   \n",
       "              Master’s degree (MA, MS, M.Eng., MBA, etc.)                   41.881030   \n",
       "              Other doctoral degree (Ph.D, Ed.D., etc.)                     40.000000   \n",
       "              Primary/elementary school                                     42.800000   \n",
       "              Professional degree (JD, MD, etc.)                            38.156250   \n",
       "              Secondary school (e.g. American high school, Ge...            39.146341   \n",
       "              Some college/university study without earning a...            41.261421   \n",
       "(27.0, 30.0]  Associate degree                                              39.419643   \n",
       "              Bachelor’s degree (BA, BS, B.Eng., etc.)                      42.328117   \n",
       "              I never completed any formal education                        40.800000   \n",
       "              Master’s degree (MA, MS, M.Eng., MBA, etc.)                   41.530761   \n",
       "              Other doctoral degree (Ph.D, Ed.D., etc.)                     43.916667   \n",
       "              Primary/elementary school                                     33.333333   \n",
       "              Professional degree (JD, MD, etc.)                            40.322581   \n",
       "              Secondary school (e.g. American high school, Ge...            40.263158   \n",
       "              Some college/university study without earning a...            42.906475   \n",
       "(30.0, 37.0]  Associate degree                                              42.045455   \n",
       "              Bachelor’s degree (BA, BS, B.Eng., etc.)                      42.795050   \n",
       "              I never completed any formal education                        41.000000   \n",
       "              Master’s degree (MA, MS, M.Eng., MBA, etc.)                   43.407283   \n",
       "              Other doctoral degree (Ph.D, Ed.D., etc.)                     43.226744   \n",
       "              Primary/elementary school                                     53.000000   \n",
       "              Professional degree (JD, MD, etc.)                            45.395349   \n",
       "              Secondary school (e.g. American high school, Ge...            40.719697   \n",
       "              Some college/university study without earning a...            42.739919   \n",
       "(37.0, 99.0]  Associate degree                                              40.640351   \n",
       "              Bachelor’s degree (BA, BS, B.Eng., etc.)                      42.089732   \n",
       "              I never completed any formal education                        34.285714   \n",
       "              Master’s degree (MA, MS, M.Eng., MBA, etc.)                   52.164319   \n",
       "              Other doctoral degree (Ph.D, Ed.D., etc.)                     43.765000   \n",
       "              Primary/elementary school                                     40.916667   \n",
       "              Professional degree (JD, MD, etc.)                            41.562500   \n",
       "              Secondary school (e.g. American high school, Ge...            39.187500   \n",
       "              Some college/university study without earning a...            41.645455   \n",
       "\n",
       "                                                                                     \\\n",
       "MgrIdiot                                                         Somewhat confident   \n",
       "Age_disc3     EdLevel                                                                 \n",
       "(0.999, 23.0] Associate degree                                            37.683824   \n",
       "              Bachelor’s degree (BA, BS, B.Eng., etc.)                    39.163822   \n",
       "              I never completed any formal education                      40.428571   \n",
       "              Master’s degree (MA, MS, M.Eng., MBA, etc.)                 38.687500   \n",
       "              Other doctoral degree (Ph.D, Ed.D., etc.)                   20.500003   \n",
       "              Primary/elementary school                                   50.189655   \n",
       "              Professional degree (JD, MD, etc.)                          39.680556   \n",
       "              Secondary school (e.g. American high school, Ge...          40.450651   \n",
       "              Some college/university study without earning a...          38.028382   \n",
       "(23.0, 27.0]  Associate degree                                            39.754601   \n",
       "              Bachelor’s degree (BA, BS, B.Eng., etc.)                    40.954634   \n",
       "              I never completed any formal education                      43.615385   \n",
       "              Master’s degree (MA, MS, M.Eng., MBA, etc.)                 42.663629   \n",
       "              Other doctoral degree (Ph.D, Ed.D., etc.)                   43.464286   \n",
       "              Primary/elementary school                                   42.600000   \n",
       "              Professional degree (JD, MD, etc.)                          40.179104   \n",
       "              Secondary school (e.g. American high school, Ge...          38.574176   \n",
       "              Some college/university study without earning a...          41.041581   \n",
       "(27.0, 30.0]  Associate degree                                            40.364865   \n",
       "              Bachelor’s degree (BA, BS, B.Eng., etc.)                    42.519882   \n",
       "              I never completed any formal education                      42.500000   \n",
       "              Master’s degree (MA, MS, M.Eng., MBA, etc.)                 41.973326   \n",
       "              Other doctoral degree (Ph.D, Ed.D., etc.)                   43.073333   \n",
       "              Primary/elementary school                                   40.333333   \n",
       "              Professional degree (JD, MD, etc.)                          39.840000   \n",
       "              Secondary school (e.g. American high school, Ge...          45.989796   \n",
       "              Some college/university study without earning a...          43.608955   \n",
       "(30.0, 37.0]  Associate degree                                            43.962963   \n",
       "              Bachelor’s degree (BA, BS, B.Eng., etc.)                    44.753409   \n",
       "              I never completed any formal education                      47.958333   \n",
       "              Master’s degree (MA, MS, M.Eng., MBA, etc.)                 42.716657   \n",
       "              Other doctoral degree (Ph.D, Ed.D., etc.)                   45.208000   \n",
       "              Primary/elementary school                                   41.447368   \n",
       "              Professional degree (JD, MD, etc.)                          40.105634   \n",
       "              Secondary school (e.g. American high school, Ge...          42.030899   \n",
       "              Some college/university study without earning a...          41.922917   \n",
       "(37.0, 99.0]  Associate degree                                            54.594340   \n",
       "              Bachelor’s degree (BA, BS, B.Eng., etc.)                    41.679099   \n",
       "              I never completed any formal education                      38.766667   \n",
       "              Master’s degree (MA, MS, M.Eng., MBA, etc.)                 43.171040   \n",
       "              Other doctoral degree (Ph.D, Ed.D., etc.)                   41.210280   \n",
       "              Primary/elementary school                                   38.916667   \n",
       "              Professional degree (JD, MD, etc.)                          41.442308   \n",
       "              Secondary school (e.g. American high school, Ge...          43.729630   \n",
       "              Some college/university study without earning a...          41.217075   \n",
       "\n",
       "                                                                                 \n",
       "MgrIdiot                                                         Very confident  \n",
       "Age_disc3     EdLevel                                                            \n",
       "(0.999, 23.0] Associate degree                                        36.000000  \n",
       "              Bachelor’s degree (BA, BS, B.Eng., etc.)                43.204780  \n",
       "              I never completed any formal education                  46.400000  \n",
       "              Master’s degree (MA, MS, M.Eng., MBA, etc.)             43.382135  \n",
       "              Other doctoral degree (Ph.D, Ed.D., etc.)               45.000000  \n",
       "              Primary/elementary school                               36.219512  \n",
       "              Professional degree (JD, MD, etc.)                      37.051724  \n",
       "              Secondary school (e.g. American high school, Ge...      35.934906  \n",
       "              Some college/university study without earning a...      38.172521  \n",
       "(23.0, 27.0]  Associate degree                                        40.317610  \n",
       "              Bachelor’s degree (BA, BS, B.Eng., etc.)                41.035741  \n",
       "              I never completed any formal education                  37.142857  \n",
       "              Master’s degree (MA, MS, M.Eng., MBA, etc.)             42.614616  \n",
       "              Other doctoral degree (Ph.D, Ed.D., etc.)               41.533333  \n",
       "              Primary/elementary school                               43.375000  \n",
       "              Professional degree (JD, MD, etc.)                      39.254386  \n",
       "              Secondary school (e.g. American high school, Ge...      43.023256  \n",
       "              Some college/university study without earning a...      41.756982  \n",
       "(27.0, 30.0]  Associate degree                                        39.818182  \n",
       "              Bachelor’s degree (BA, BS, B.Eng., etc.)                42.568685  \n",
       "              I never completed any formal education                  34.583333  \n",
       "              Master’s degree (MA, MS, M.Eng., MBA, etc.)             41.681646  \n",
       "              Other doctoral degree (Ph.D, Ed.D., etc.)               41.331522  \n",
       "              Primary/elementary school                               75.678571  \n",
       "              Professional degree (JD, MD, etc.)                      35.539474  \n",
       "              Secondary school (e.g. American high school, Ge...      42.690000  \n",
       "              Some college/university study without earning a...      42.892523  \n",
       "(30.0, 37.0]  Associate degree                                        40.818919  \n",
       "              Bachelor’s degree (BA, BS, B.Eng., etc.)                42.094806  \n",
       "              I never completed any formal education                  44.593750  \n",
       "              Master’s degree (MA, MS, M.Eng., MBA, etc.)             42.035689  \n",
       "              Other doctoral degree (Ph.D, Ed.D., etc.)               41.492701  \n",
       "              Primary/elementary school                               40.285714  \n",
       "              Professional degree (JD, MD, etc.)                      43.236111  \n",
       "              Secondary school (e.g. American high school, Ge...      40.003906  \n",
       "              Some college/university study without earning a...      42.089695  \n",
       "(37.0, 99.0]  Associate degree                                        44.132463  \n",
       "              Bachelor’s degree (BA, BS, B.Eng., etc.)                42.145777  \n",
       "              I never completed any formal education                  37.600000  \n",
       "              Master’s degree (MA, MS, M.Eng., MBA, etc.)             42.495262  \n",
       "              Other doctoral degree (Ph.D, Ed.D., etc.)               42.899510  \n",
       "              Primary/elementary school                               43.714286  \n",
       "              Professional degree (JD, MD, etc.)                      53.372340  \n",
       "              Secondary school (e.g. American high school, Ge...      50.256757  \n",
       "              Some college/university study without earning a...      43.658262  "
      ]
     },
     "execution_count": 78,
     "metadata": {},
     "output_type": "execute_result"
    }
   ],
   "source": [
    "mon_tableau_croise"
   ]
  },
  {
   "cell_type": "code",
   "execution_count": 79,
   "metadata": {},
   "outputs": [],
   "source": [
    "# on peut utiliser un groupby\n",
    "enquete_country = enquete.groupby(\"Country\")"
   ]
  },
  {
   "cell_type": "code",
   "execution_count": 80,
   "metadata": {},
   "outputs": [
    {
     "data": {
      "text/plain": [
       "Country\n",
       "Finland                  82.790865\n",
       "Norway                   76.439943\n",
       "Burundi                  68.000000\n",
       "Sierra Leone             65.000000\n",
       "Austria                  63.688552\n",
       "                           ...    \n",
       "North Korea                    NaN\n",
       "Papua New Guinea               NaN\n",
       "Saint Kitts and Nevis          NaN\n",
       "Sao Tome and Principe          NaN\n",
       "Tonga                          NaN\n",
       "Name: WorkWeekHrs, Length: 179, dtype: float64"
      ]
     },
     "execution_count": 80,
     "metadata": {},
     "output_type": "execute_result"
    }
   ],
   "source": [
    "enquete_country[\"WorkWeekHrs\"].mean().sort_values(ascending = False)"
   ]
  },
  {
   "cell_type": "code",
   "execution_count": 81,
   "metadata": {
    "scrolled": true
   },
   "outputs": [
    {
     "data": {
      "text/html": [
       "<div>\n",
       "<style scoped>\n",
       "    .dataframe tbody tr th:only-of-type {\n",
       "        vertical-align: middle;\n",
       "    }\n",
       "\n",
       "    .dataframe tbody tr th {\n",
       "        vertical-align: top;\n",
       "    }\n",
       "\n",
       "    .dataframe thead th {\n",
       "        text-align: right;\n",
       "    }\n",
       "</style>\n",
       "<table border=\"1\" class=\"dataframe\">\n",
       "  <thead>\n",
       "    <tr style=\"text-align: right;\">\n",
       "      <th></th>\n",
       "      <th>mean</th>\n",
       "      <th>count</th>\n",
       "      <th>max</th>\n",
       "    </tr>\n",
       "    <tr>\n",
       "      <th>Country</th>\n",
       "      <th></th>\n",
       "      <th></th>\n",
       "      <th></th>\n",
       "    </tr>\n",
       "  </thead>\n",
       "  <tbody>\n",
       "    <tr>\n",
       "      <th>Finland</th>\n",
       "      <td>82.790865</td>\n",
       "      <td>416</td>\n",
       "      <td>375.0</td>\n",
       "    </tr>\n",
       "    <tr>\n",
       "      <th>Norway</th>\n",
       "      <td>76.439943</td>\n",
       "      <td>451</td>\n",
       "      <td>375.0</td>\n",
       "    </tr>\n",
       "    <tr>\n",
       "      <th>Burundi</th>\n",
       "      <td>68.000000</td>\n",
       "      <td>3</td>\n",
       "      <td>84.0</td>\n",
       "    </tr>\n",
       "    <tr>\n",
       "      <th>Sierra Leone</th>\n",
       "      <td>65.000000</td>\n",
       "      <td>2</td>\n",
       "      <td>90.0</td>\n",
       "    </tr>\n",
       "    <tr>\n",
       "      <th>Austria</th>\n",
       "      <td>63.688552</td>\n",
       "      <td>594</td>\n",
       "      <td>425.0</td>\n",
       "    </tr>\n",
       "    <tr>\n",
       "      <th>...</th>\n",
       "      <td>...</td>\n",
       "      <td>...</td>\n",
       "      <td>...</td>\n",
       "    </tr>\n",
       "    <tr>\n",
       "      <th>North Korea</th>\n",
       "      <td>NaN</td>\n",
       "      <td>0</td>\n",
       "      <td>NaN</td>\n",
       "    </tr>\n",
       "    <tr>\n",
       "      <th>Papua New Guinea</th>\n",
       "      <td>NaN</td>\n",
       "      <td>0</td>\n",
       "      <td>NaN</td>\n",
       "    </tr>\n",
       "    <tr>\n",
       "      <th>Saint Kitts and Nevis</th>\n",
       "      <td>NaN</td>\n",
       "      <td>0</td>\n",
       "      <td>NaN</td>\n",
       "    </tr>\n",
       "    <tr>\n",
       "      <th>Sao Tome and Principe</th>\n",
       "      <td>NaN</td>\n",
       "      <td>0</td>\n",
       "      <td>NaN</td>\n",
       "    </tr>\n",
       "    <tr>\n",
       "      <th>Tonga</th>\n",
       "      <td>NaN</td>\n",
       "      <td>0</td>\n",
       "      <td>NaN</td>\n",
       "    </tr>\n",
       "  </tbody>\n",
       "</table>\n",
       "<p>179 rows × 3 columns</p>\n",
       "</div>"
      ],
      "text/plain": [
       "                            mean  count    max\n",
       "Country                                       \n",
       "Finland                82.790865    416  375.0\n",
       "Norway                 76.439943    451  375.0\n",
       "Burundi                68.000000      3   84.0\n",
       "Sierra Leone           65.000000      2   90.0\n",
       "Austria                63.688552    594  425.0\n",
       "...                          ...    ...    ...\n",
       "North Korea                  NaN      0    NaN\n",
       "Papua New Guinea             NaN      0    NaN\n",
       "Saint Kitts and Nevis        NaN      0    NaN\n",
       "Sao Tome and Principe        NaN      0    NaN\n",
       "Tonga                        NaN      0    NaN\n",
       "\n",
       "[179 rows x 3 columns]"
      ]
     },
     "execution_count": 81,
     "metadata": {},
     "output_type": "execute_result"
    }
   ],
   "source": [
    "enquete_country[\"WorkWeekHrs\"].agg([\"mean\",\"count\",\"max\"]).sort_values(\"mean\",ascending = False)"
   ]
  },
  {
   "cell_type": "code",
   "execution_count": 82,
   "metadata": {},
   "outputs": [],
   "source": [
    "# si on veut extraire quelques pays, on utilise :\n",
    "liste_pays = [\"France\", \"Switzerland\", \"Spain\", \"Germany\"]"
   ]
  },
  {
   "cell_type": "code",
   "execution_count": 83,
   "metadata": {},
   "outputs": [
    {
     "data": {
      "text/html": [
       "<div>\n",
       "<style scoped>\n",
       "    .dataframe tbody tr th:only-of-type {\n",
       "        vertical-align: middle;\n",
       "    }\n",
       "\n",
       "    .dataframe tbody tr th {\n",
       "        vertical-align: top;\n",
       "    }\n",
       "\n",
       "    .dataframe thead th {\n",
       "        text-align: right;\n",
       "    }\n",
       "</style>\n",
       "<table border=\"1\" class=\"dataframe\">\n",
       "  <thead>\n",
       "    <tr style=\"text-align: right;\">\n",
       "      <th></th>\n",
       "      <th>mean</th>\n",
       "      <th>count</th>\n",
       "      <th>max</th>\n",
       "    </tr>\n",
       "    <tr>\n",
       "      <th>Country</th>\n",
       "      <th></th>\n",
       "      <th></th>\n",
       "      <th></th>\n",
       "    </tr>\n",
       "  </thead>\n",
       "  <tbody>\n",
       "    <tr>\n",
       "      <th>France</th>\n",
       "      <td>40.850320</td>\n",
       "      <td>1784</td>\n",
       "      <td>385.0</td>\n",
       "    </tr>\n",
       "    <tr>\n",
       "      <th>Switzerland</th>\n",
       "      <td>46.377230</td>\n",
       "      <td>751</td>\n",
       "      <td>4125.0</td>\n",
       "    </tr>\n",
       "    <tr>\n",
       "      <th>Spain</th>\n",
       "      <td>40.171396</td>\n",
       "      <td>1318</td>\n",
       "      <td>415.0</td>\n",
       "    </tr>\n",
       "    <tr>\n",
       "      <th>Germany</th>\n",
       "      <td>40.238602</td>\n",
       "      <td>4369</td>\n",
       "      <td>425.0</td>\n",
       "    </tr>\n",
       "  </tbody>\n",
       "</table>\n",
       "</div>"
      ],
      "text/plain": [
       "                  mean  count     max\n",
       "Country                              \n",
       "France       40.850320   1784   385.0\n",
       "Switzerland  46.377230    751  4125.0\n",
       "Spain        40.171396   1318   415.0\n",
       "Germany      40.238602   4369   425.0"
      ]
     },
     "execution_count": 83,
     "metadata": {},
     "output_type": "execute_result"
    }
   ],
   "source": [
    "enquete_country[\"WorkWeekHrs\"].agg([\"mean\",\"count\",\"max\"]).loc[liste_pays]"
   ]
  }
 ],
 "metadata": {
  "celltoolbar": "Slideshow",
  "kernelspec": {
   "display_name": "Python 3",
   "language": "python",
   "name": "python3"
  },
  "language_info": {
   "codemirror_mode": {
    "name": "ipython",
    "version": 3
   },
   "file_extension": ".py",
   "mimetype": "text/x-python",
   "name": "python",
   "nbconvert_exporter": "python",
   "pygments_lexer": "ipython3",
   "version": "3.7.6"
  }
 },
 "nbformat": 4,
 "nbformat_minor": 4
}
