{
 "cells": [
  {
   "cell_type": "markdown",
   "metadata": {
    "slideshow": {
     "slide_type": "slide"
    }
   },
   "source": [
    "# La programmation orientée objet en Python\n",
    "\n",
    "Nous avons déjà vu les notions de base liées aux classes.\n",
    "\n",
    "La programmation orientée objet (POO) amène certains avantages par rapport à la programmation procédurale.\n",
    "\n",
    "- Elle permet d’obtenir un code plus réutilisable. En effet, les types d’objets créés peuvent servir de base pour d’autres objets en ne développant que les évolutions nécessaires.\n",
    "\n",
    "- Elle offre un code plus compréhensible. En effet, chaque objet va contenir ses propriétés et ses méthodes. Il est donc aisé de voir ce qu’une fonction manipule et à quoi correspondent les variables disponibles.\n",
    "\n",
    "- Elle amène un code modulaire. En effet, chaque type d’objet ne communique avec les autres types que par des interfaces connues et définies. Cet isolement permet donc de développer facilement d’autres modules pour interagir avec les interfaces déjà utilisées."
   ]
  },
  {
   "cell_type": "markdown",
   "metadata": {
    "slideshow": {
     "slide_type": "subslide"
    }
   },
   "source": [
    "## Généralement, on a procédural pour le data scientist et oo pour le développeur\n",
    "\n",
    "- La POO a pour principal attrait de permettre de proposer une belle API, c’est à dire de créer du code réutilisable et facile à manipuler. \n",
    "\n",
    "- Il n’y a rien qu’on puisse faire en POO qu’on ne puisse faire autrement. On va surtout l’utiliser pour donner un style au code.\n",
    "\n",
    "- En fait, on fait de la POO pour celui qui va utiliser votre code plus tard."
   ]
  },
  {
   "cell_type": "markdown",
   "metadata": {
    "slideshow": {
     "slide_type": "slide"
    }
   },
   "source": [
    "# Procédural != Objet\n",
    "\n",
    "Paradigme procédural :\n",
    "- Chaque espace de nom va stocker des variables et des fonctions\n",
    "- Les données sont stockées dans les variables\n",
    "- On privilégie les actions par rapport aux données\n",
    "    - Code = Ensemble de fonctions qui s'échangent des variables et des constantes\n",
    "    \n",
    "Paradigme objet :\n",
    "- Deux catégories d'identificateurs : les instances et les classes\n",
    "- Les données sont stockées dans des instances\n",
    "- On privilégie les données par rapport aux actions\n",
    "\n",
    "Avantage du paradigme objet :\n",
    "- Regroupement en un seul endroit de l'ensemble des traitements possibles pour une donnée\n",
    "- Possibilité de réutiliser un objet dans pluseurs applications sans réécriture du code associé\n",
    "- Construction d'une API plus simple pour l'utilisateur\n",
    "\n",
    "Inconvénient :\n",
    "- Une certaine lourdeur de code dans la mise en oeuvre avec une phase de conception plus longue"
   ]
  },
  {
   "cell_type": "markdown",
   "metadata": {
    "slideshow": {
     "slide_type": "slide"
    }
   },
   "source": [
    "# Utilisation de l'orienté objet\n",
    "\n",
    "## Quelques cas classiques\n",
    "\n",
    "- Construction d'un connecteur pour une base de données\n",
    "- Construction d'une nouvelle structure de données\n",
    "- Développement d'une API d'application de nouveaux algorithmes\n",
    "- Construction d'un outil de scraping web automatisé\n",
    "\n",
    "## Vous utilisez déjà de la POO lorsque vous utilisez :\n",
    "\n",
    "- Pandas et Numpy pour la gestion des données\n",
    "- Scikit-Learn pour l'application de Machine Learning"
   ]
  },
  {
   "cell_type": "markdown",
   "metadata": {
    "slideshow": {
     "slide_type": "slide"
    }
   },
   "source": [
    "# Bonnes pratiques\n",
    "\n",
    "Lorsque votre code doit \"passer en production\" et être industrialisé, l'utilisation d'une POO est plus efficace (même si elle est plus compliqué à mettre en oeuvre).\n",
    "\n",
    "## Faut-il toujours coder en orienté objet ?\n",
    "\n",
    "- Si vous êtes développeur pour de l'industrialisation de gros projet, il faut privilégier cette approche\n",
    "- Si vous êtes data scientist, elle arrive souvent dans un second temps dans une phase de reflexion lors de la pré-industrialisation\n",
    "\n",
    "Lorsque le projet d'application est clair, l'approche OO s'impose souvent."
   ]
  },
  {
   "cell_type": "markdown",
   "metadata": {
    "slideshow": {
     "slide_type": "slide"
    }
   },
   "source": [
    "# Pourquoi du code développé en OO est-il plus facile à maintenir ?\n",
    "\n",
    "- La mise en place de tests unitaires est plus simples car les méthodes sont toujours adaptées à un objet spécifique\n",
    "- On travaille généralement avec des structures similaires dans un projet, on pourra donc utiliser simplement les notions d'héritage et donc factoriser son code (éviter les répétitions inutiles dans différentes parties du code)\n",
    "- Globalement, une classe est plus facile à documenter qu'une fonction qui est plus souple\n"
   ]
  },
  {
   "cell_type": "markdown",
   "metadata": {
    "slideshow": {
     "slide_type": "subslide"
    }
   },
   "source": [
    "# Pourquoi faire de l'orienté objet pour l'industrialisation ?\n",
    "\n",
    "- C'est l'approche C++ / Java et c'est souvent l'approche privilégié par les développeurs\n",
    "- Pour des raisons de qualité évoqué plus haut\n",
    "- Pour simplement créer des API standardisées"
   ]
  },
  {
   "cell_type": "markdown",
   "metadata": {
    "slideshow": {
     "slide_type": "slide"
    }
   },
   "source": [
    "# Quelques points supplémentaires\n",
    "\n",
    "## Attributs de classe, méthodes de classe et méthodes statiques\n",
    "\n",
    "- attributs de classe : attributs définis en début de classe\n",
    "- méthodes de classe : méthodes ne travaillent pas sur l'instance `self`. Elle prend comme paramètre `cls`\n",
    "\n",
    "Pour définir une méthode de classe, on peut utiliser un décorateur spécifique `@classmethod`\n",
    "\n",
    "- méthodes statiques : méthodes assez proches des méthodes de classe sauf qu'elles ne prennent aucun premier paramètre, ni `self` ni `cls`.\n",
    "\n",
    "Pour définir une méthode statique, on peut utiliser un décorateur spécifique `@staticmethod`"
   ]
  },
  {
   "cell_type": "markdown",
   "metadata": {},
   "source": [
    "# Quelques points supplémentaires\n",
    "## Utilisation de l'héritage de classe avec pandas"
   ]
  },
  {
   "cell_type": "code",
   "execution_count": 1,
   "metadata": {},
   "outputs": [],
   "source": [
    "from pandas import DataFrame\n",
    "\n",
    "class SubclassedDataFrame(DataFrame):\n",
    "\n",
    "    @property\n",
    "    def _constructor(self):\n",
    "        return SubclassedDataFrame\n",
    "    \n",
    "    def methode(self):\n",
    "        return self.mean()\n",
    "    \n",
    "    def __str__(self):\n",
    "        return \"Mon DF\""
   ]
  },
  {
   "cell_type": "code",
   "execution_count": 2,
   "metadata": {},
   "outputs": [],
   "source": [
    "data_classic = DataFrame([4,6,8])"
   ]
  },
  {
   "cell_type": "code",
   "execution_count": 8,
   "metadata": {},
   "outputs": [
    {
     "name": "stdout",
     "output_type": "stream",
     "text": [
      "   0\n",
      "0  4\n",
      "1  6\n",
      "2  8\n"
     ]
    }
   ],
   "source": [
    "print(data_classic)"
   ]
  },
  {
   "cell_type": "code",
   "execution_count": 4,
   "metadata": {},
   "outputs": [],
   "source": [
    "data=SubclassedDataFrame([4,6,8])"
   ]
  },
  {
   "cell_type": "code",
   "execution_count": 5,
   "metadata": {},
   "outputs": [
    {
     "data": {
      "text/plain": [
       "0    6.0\n",
       "dtype: float64"
      ]
     },
     "execution_count": 5,
     "metadata": {},
     "output_type": "execute_result"
    }
   ],
   "source": [
    "data.mean()"
   ]
  },
  {
   "cell_type": "code",
   "execution_count": 6,
   "metadata": {},
   "outputs": [
    {
     "data": {
      "text/plain": [
       "0    6.0\n",
       "dtype: float64"
      ]
     },
     "execution_count": 6,
     "metadata": {},
     "output_type": "execute_result"
    }
   ],
   "source": [
    "data.methode()"
   ]
  },
  {
   "cell_type": "code",
   "execution_count": 9,
   "metadata": {},
   "outputs": [
    {
     "name": "stdout",
     "output_type": "stream",
     "text": [
      "Mon DF\n"
     ]
    }
   ],
   "source": [
    "# on passe par la méthode __str__\n",
    "print(data)"
   ]
  },
  {
   "cell_type": "code",
   "execution_count": 10,
   "metadata": {},
   "outputs": [
    {
     "data": {
      "text/plain": [
       "0    6.0\n",
       "dtype: float64"
      ]
     },
     "execution_count": 10,
     "metadata": {},
     "output_type": "execute_result"
    }
   ],
   "source": [
    "data.methode()"
   ]
  },
  {
   "cell_type": "markdown",
   "metadata": {},
   "source": [
    "# Une classe de connexion vers des bases de données"
   ]
  },
  {
   "cell_type": "code",
   "execution_count": 1,
   "metadata": {},
   "outputs": [],
   "source": [
    "class Connector(object):\n",
    "    \"\"\" Classe de connexion à une base MySQL\"\"\"\n",
    "    \n",
    "    def __init__(self, host=\"localhost\",\n",
    "                 user=\"MyUser\",passwd=\"MyPassword\", **autres_arguments):\n",
    "        self.host = host\n",
    "        self.user = user\n",
    "        self.passwd = passwd\n",
    "        \n",
    "    def create_connection( self ):\n",
    "        self.cursor = MySQLdb.connect(self.host, self.user,self.passwd)\n",
    "    \n",
    "    def close_connection( self ):\n",
    "        self.cursor.close()\n",
    "    \n",
    "    def execute( self, sql_statement ):\n",
    "        self.cursor.Execute( sql_statement )\n",
    "        return self.cursor.FetchAll()"
   ]
  },
  {
   "cell_type": "code",
   "execution_count": 2,
   "metadata": {},
   "outputs": [],
   "source": [
    "ma_connexion = Connector(\"https://www.stat4decison/base.sqlite\",user=\"emmanuel\",\n",
    "                         passwd=\"toto\")"
   ]
  },
  {
   "cell_type": "code",
   "execution_count": null,
   "metadata": {},
   "outputs": [],
   "source": [
    "ma_connexion.create_connection()"
   ]
  },
  {
   "cell_type": "markdown",
   "metadata": {},
   "source": [
    "# Une classe pour faire du crawling"
   ]
  },
  {
   "cell_type": "code",
   "execution_count": 4,
   "metadata": {},
   "outputs": [],
   "source": [
    "import requests\n",
    "from lxml import html\n",
    "\n",
    "class YellowPage:\n",
    "    \"\"\" Classe pour explorer les pages jaunes \"\"\"\n",
    "    URL_TEMPLATE = \"https://www.yellowpages.com/search?search_terms={name}&geo_location_terms={state}\"\n",
    "\n",
    "    @classmethod\n",
    "    def crawl(cls, name, state):\n",
    "        \"\"\" Méthode de classe permettant de renvoyer tous les résultat d'une page de résultat de recherche\"\"\"\n",
    "        page = requests.get(cls.URL_TEMPLATE.format(name=name, state=state)).text\n",
    "        tree = html.fromstring(page)\n",
    "        for items in tree.xpath('//div[@class=\"info\"]'):\n",
    "            name = items.findtext('.//span')\n",
    "            address = items.findtext('.//span[@class=\"street-address\"]')\n",
    "            phone = items.findtext('.//div[@class=\"phones phone primary\"]')\n",
    "            yield (name, address, phone)"
   ]
  },
  {
   "cell_type": "code",
   "execution_count": 5,
   "metadata": {},
   "outputs": [
    {
     "name": "stdout",
     "output_type": "stream",
     "text": [
      "('Lupi Italian Restaurant', None, '(858) 250-0733')\n",
      "(\"Mario's Italian Cafes\", None, '(442) 274-0854')\n",
      "(\"Del's Famous Pizzeria & Italian Restaurant\", None, '(805) 936-0859')\n",
      "('Marechiaros on 2nd', None, '(619) 328-2052')\n",
      "('Tommaso Ristorante Italiano', None, '(415) 398-9696')\n",
      "(\"Cassanova's Pizza\", None, '(951) 363-4060')\n",
      "('17th Street Grill', None, '(657) 229-3966')\n",
      "('Lamppost Pizza', None, '(530) 274-1444')\n",
      "('Klondike Pizza', None, '(805) 980-2212')\n",
      "('Ave 3 Pizza, Subs & Catering', None, '(562) 246-8473')\n",
      "('Pizza City', None, '(510) 533-8000')\n",
      "(\"Buffalo Chip's Pizza\", None, '(530) 256-2412')\n",
      "(\"Fisherman's Pizzeria\", None, '(415) 928-2998')\n",
      "(\"Little Toni's Pizzeria Restaurant\", None, '(818) 232-9571')\n",
      "('Massimo Ristorante', None, '(925) 951-0685')\n",
      "(\"Papa Joe'sPizza Inc.\", None, '(707) 255-6525')\n",
      "('Arcata Pizza & Deli', None, '(707) 822-4650')\n",
      "(\"Papa Joe's Pizza Inc.\", None, '(707) 255-6525')\n",
      "(\"Fratellino's Italian Restaurant\", None, '(714) 257-5774')\n",
      "(\"Angelo's And Vinci's Ristorante\", None, '(714) 882-6716')\n",
      "(\"Napoleone's Pizza House\", None, '(619) 312-4002')\n",
      "(\"Fazerrati's Pizza Restaurant\", None, '(707) 681-0973')\n",
      "('Chicago Pasta House', None, '(951) 363-4172')\n",
      "(\"Angelo's Pizza Parlor\", None, '(707) 444-9644')\n",
      "(\"DiCicco's Pizzeria Italian Dinners Of Madera\", None, '(559) 474-8983')\n",
      "(\"Vicini's NYC Pizzeria Inc\", None, '(707) 425-2600')\n",
      "('Pizza Palace', None, '(530) 936-5057')\n",
      "('Two Guys Pizza And Pasta', None, '(909) 862-7700')\n",
      "(\"Domenick's Pizza House\", None, '(424) 264-0362')\n",
      "(\"Stella Mare's\", None, '(805) 969-6705')\n"
     ]
    }
   ],
   "source": [
    "for result in YellowPage.crawl(\"pizza\", \"california\"):\n",
    "    print(result)"
   ]
  },
  {
   "cell_type": "markdown",
   "metadata": {},
   "source": [
    "# Quelques méthodes particulières (méthodes spéciales)\n",
    "\n",
    "- `__init__(self, ...)` : le constructeur : méthode d’initialisation nécessairement appelée quand on crée un objet. \n",
    "- `__del__(self)` : le destructeur, appelé quand une instance est sur le point d’être détruite.\n",
    "- `__repr__(self)` : chaîne représentant cet objet et qui devrait correspondre (quand c’est possible) à une expression Python valide pour créer l’objet.\n",
    "- `__str__(self)` : utilisée par `str()` pour obtenir la représentation sous forme d’une chaîne de caractères lisible de l’objet. Si non définie, retourne le résultat de `__repr__`.\n",
    "- `__new__(cls, ...)` : méthode implicitement statique qui crée l’objet (et appelle `__init__`).\n",
    "- `__bool__(self)` : utilisée quand l’objet est considéré comme booléen et avec la fonction prédéfinie `bool()`.\n",
    "- ..."
   ]
  }
 ],
 "metadata": {
  "celltoolbar": "Slideshow",
  "kernelspec": {
   "display_name": "Python 3",
   "language": "python",
   "name": "python3"
  },
  "language_info": {
   "codemirror_mode": {
    "name": "ipython",
    "version": 3
   },
   "file_extension": ".py",
   "mimetype": "text/x-python",
   "name": "python",
   "nbconvert_exporter": "python",
   "pygments_lexer": "ipython3",
   "version": "3.7.6"
  }
 },
 "nbformat": 4,
 "nbformat_minor": 4
}
